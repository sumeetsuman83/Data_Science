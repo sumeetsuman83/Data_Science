{
 "cells": [
  {
   "cell_type": "markdown",
   "metadata": {
    "ExecuteTime": {
     "end_time": "2020-08-13T16:40:10.012707Z",
     "start_time": "2020-08-13T16:40:10.003715Z"
    }
   },
   "source": [
    "# You can also use this handy formula in finding the confidence interval:\n",
    "    "
   ]
  },
  {
   "cell_type": "markdown",
   "metadata": {},
   "source": [
    "# x̅ ± Za/2 * σ/√(n). "
   ]
  },
  {
   "cell_type": "code",
   "execution_count": 2,
   "metadata": {
    "ExecuteTime": {
     "end_time": "2020-08-13T16:47:33.186766Z",
     "start_time": "2020-08-13T16:46:14.859958Z"
    }
   },
   "outputs": [
    {
     "name": "stdout",
     "output_type": "stream",
     "text": [
      "number1 1 23 45 6757 2 534 -12 -4 5\n",
      "number2 1 -3 5 5454 2 -334 -12 4 -32342\n",
      "-3025.0\n",
      "1.0\n",
      "-32342\n",
      "10506.6\n",
      "-9889.3 3839.3\n"
     ]
    }
   ],
   "source": [
    "\n",
    "import statistics\n",
    "j=[int(i) for i in input('number1 ').split()]\n",
    "k= [int(i) for i in input('number2 ').split()]\n",
    "\n",
    "# print(k)\n",
    "k1=k\n",
    "a=[]\n",
    "ld=[]\n",
    "from scipy import stats\n",
    "a.append(statistics.mean(k))\n",
    "a.append(statistics.median(k))\n",
    "# try:\n",
    "#     a.append(statistics.mode(k))\n",
    "# except:\n",
    "#     k1.sort()\n",
    "#     ld=k1[:1]\n",
    "#     a.append(ld[0])\n",
    "\n",
    "a.append(stats.mode(k))\n",
    "a.append(statistics.pstdev(k))\n",
    "half_list = int(len(k)//2)\n",
    "lower=statistics.mean(k)-(1.96*(statistics.pstdev(k)/len(k)**0.5))\n",
    "upper=statistics.mean(k)+(1.96*(statistics.pstdev(k)/len(k)**0.5))\n",
    "a1=[]\n",
    "# lower=statistics.median(k[:half_list])\n",
    "# upper=statistics.median(k[half_list:])\n",
    "from decimal import Decimal\n",
    "a1.append(round(Decimal(lower),1))\n",
    "a1.append(round(Decimal(upper),1))\n",
    "\n",
    "for i in a:\n",
    "    if(i==stats.mode(k)):\n",
    "        print(int(i[0]))\n",
    "        continue\n",
    "    l1=Decimal(i)\n",
    "    \n",
    "    print(round(l1,1))\n",
    "\n",
    "print(a1[0],a1[1])"
   ]
  },
  {
   "cell_type": "code",
   "execution_count": 8,
   "metadata": {
    "ExecuteTime": {
     "end_time": "2020-08-13T16:51:02.166553Z",
     "start_time": "2020-08-13T16:51:01.938766Z"
    }
   },
   "outputs": [
    {
     "data": {
      "text/plain": [
       "[<matplotlib.lines.Line2D at 0x21c31b3eec8>]"
      ]
     },
     "execution_count": 8,
     "metadata": {},
     "output_type": "execute_result"
    },
    {
     "data": {
      "image/png": "[encoded data removed]",
      "text/plain": [
       "<Figure size 432x288 with 1 Axes>"
      ]
     },
     "metadata": {
      "needs_background": "light"
     },
     "output_type": "display_data"
    }
   ],
   "source": [
    "import matplotlib.pyplot as plt\n",
    "%matplotlib inline\n",
    "plt.plot(j,k)"
   ]
  },
  {
   "cell_type": "code",
   "execution_count": null,
   "metadata": {},
   "outputs": [],
   "source": []
  }
 ],
 "metadata": {
  "kernelspec": {
   "display_name": "Python 3",
   "language": "python",
   "name": "python3"
  },
  "language_info": {
   "codemirror_mode": {
    "name": "ipython",
    "version": 3
   },
   "file_extension": ".py",
   "mimetype": "text/x-python",
   "name": "python",
   "nbconvert_exporter": "python",
   "pygments_lexer": "ipython3",
   "version": "3.7.6"
  }
 },
 "nbformat": 4,
 "nbformat_minor": 4
}
