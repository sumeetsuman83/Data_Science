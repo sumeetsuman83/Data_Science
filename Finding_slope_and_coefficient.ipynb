{
 "cells": [
  {
   "cell_type": "markdown",
   "metadata": {},
   "source": [
    "# Y = C + M * X\n"
   ]
  },
  {
   "cell_type": "markdown",
   "metadata": {},
   "source": [
    "# M = {covariance(x,y)}/{variance(x_independent)}\n"
   ]
  },
  {
   "cell_type": "markdown",
   "metadata": {},
   "source": [
    "# C = mean(y) - (M * mean(x))"
   ]
  },
  {
   "cell_type": "code",
   "execution_count": 2,
   "metadata": {
    "ExecuteTime": {
     "end_time": "2020-08-13T17:17:35.206055Z",
     "start_time": "2020-08-13T17:17:35.187072Z"
    }
   },
   "outputs": [
    {
     "name": "stdout",
     "output_type": "stream",
     "text": [
      "6.286\n"
     ]
    }
   ],
   "source": [
    "import statistics\n",
    "a=[]\n",
    "#data=input()\n",
    "# b=sys.argv[1]\n",
    "# sum=a-b\n",
    "# for i in range(0,2):\n",
    "#     data=input().split()\n",
    "#     data= [float(item) for item in data]\n",
    "#     a.append(data)\n",
    "# f = io.StringIO()\n",
    "Score1 = [15,12,8,8,7,7,7,6,5,3] \n",
    "Score2 = [10,25,17,11,13,17,20,13,9,15]\n",
    "a.append(Score1)\n",
    "a.append(Score2)\n",
    "\n",
    "mean1=statistics.mean(a[0])\n",
    "mean2=statistics.mean(a[1])\n",
    "stdv1=statistics.stdev(a[0])\n",
    "stdv2=statistics.stdev(a[1])\n",
    "z=[]\n",
    "for (item1, item2) in zip(a[0], a[1]):\n",
    "    z.append(item1+item2)\n",
    "\n",
    "cov=(statistics.variance(z)-(statistics.variance(a[0])+statistics.variance(a[1])))/2\n",
    "M=cov/statistics.variance(a[1])\n",
    "C=mean1-(M*mean2)\n",
    "\n",
    "\n",
    "from decimal import Decimal\n",
    "\n",
    "# First we take a float and convert it to a decimal\n",
    "x = Decimal(C)\n",
    "\n",
    "# Then we round it to 2 places\n",
    "output = round(x,3)\n",
    "print(output)\n"
   ]
  },
  {
   "cell_type": "code",
   "execution_count": null,
   "metadata": {},
   "outputs": [],
   "source": []
  }
 ],
 "metadata": {
  "kernelspec": {
   "display_name": "Python 3",
   "language": "python",
   "name": "python3"
  },
  "language_info": {
   "codemirror_mode": {
    "name": "ipython",
    "version": 3
   },
   "file_extension": ".py",
   "mimetype": "text/x-python",
   "name": "python",
   "nbconvert_exporter": "python",
   "pygments_lexer": "ipython3",
   "version": "3.7.6"
  }
 },
 "nbformat": 4,
 "nbformat_minor": 4
}
