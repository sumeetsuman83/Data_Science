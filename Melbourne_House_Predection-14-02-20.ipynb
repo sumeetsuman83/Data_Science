{
 "cells": [
  {
   "cell_type": "code",
   "execution_count": 1,
   "metadata": {},
   "outputs": [
    {
     "data": {
      "text/html": [
       "<div>\n",
       "<style scoped>\n",
       "    .dataframe tbody tr th:only-of-type {\n",
       "        vertical-align: middle;\n",
       "    }\n",
       "\n",
       "    .dataframe tbody tr th {\n",
       "        vertical-align: top;\n",
       "    }\n",
       "\n",
       "    .dataframe thead th {\n",
       "        text-align: right;\n",
       "    }\n",
       "</style>\n",
       "<table border=\"1\" class=\"dataframe\">\n",
       "  <thead>\n",
       "    <tr style=\"text-align: right;\">\n",
       "      <th></th>\n",
       "      <th>Suburb</th>\n",
       "      <th>Address</th>\n",
       "      <th>Rooms</th>\n",
       "      <th>Type</th>\n",
       "      <th>Price</th>\n",
       "      <th>Method</th>\n",
       "      <th>SellerG</th>\n",
       "      <th>Date</th>\n",
       "      <th>Distance</th>\n",
       "      <th>Postcode</th>\n",
       "      <th>...</th>\n",
       "      <th>Bathroom</th>\n",
       "      <th>Car</th>\n",
       "      <th>Landsize</th>\n",
       "      <th>BuildingArea</th>\n",
       "      <th>YearBuilt</th>\n",
       "      <th>CouncilArea</th>\n",
       "      <th>Lattitude</th>\n",
       "      <th>Longtitude</th>\n",
       "      <th>Regionname</th>\n",
       "      <th>Propertycount</th>\n",
       "    </tr>\n",
       "  </thead>\n",
       "  <tbody>\n",
       "    <tr>\n",
       "      <td>0</td>\n",
       "      <td>Abbotsford</td>\n",
       "      <td>68 Studley St</td>\n",
       "      <td>2</td>\n",
       "      <td>h</td>\n",
       "      <td>NaN</td>\n",
       "      <td>SS</td>\n",
       "      <td>Jellis</td>\n",
       "      <td>3/09/2016</td>\n",
       "      <td>2.5</td>\n",
       "      <td>3067.0</td>\n",
       "      <td>...</td>\n",
       "      <td>1.0</td>\n",
       "      <td>1.0</td>\n",
       "      <td>126.0</td>\n",
       "      <td>NaN</td>\n",
       "      <td>NaN</td>\n",
       "      <td>Yarra City Council</td>\n",
       "      <td>-37.8014</td>\n",
       "      <td>144.9958</td>\n",
       "      <td>Northern Metropolitan</td>\n",
       "      <td>4019.0</td>\n",
       "    </tr>\n",
       "    <tr>\n",
       "      <td>1</td>\n",
       "      <td>Abbotsford</td>\n",
       "      <td>85 Turner St</td>\n",
       "      <td>2</td>\n",
       "      <td>h</td>\n",
       "      <td>1480000.0</td>\n",
       "      <td>S</td>\n",
       "      <td>Biggin</td>\n",
       "      <td>3/12/2016</td>\n",
       "      <td>2.5</td>\n",
       "      <td>3067.0</td>\n",
       "      <td>...</td>\n",
       "      <td>1.0</td>\n",
       "      <td>1.0</td>\n",
       "      <td>202.0</td>\n",
       "      <td>NaN</td>\n",
       "      <td>NaN</td>\n",
       "      <td>Yarra City Council</td>\n",
       "      <td>-37.7996</td>\n",
       "      <td>144.9984</td>\n",
       "      <td>Northern Metropolitan</td>\n",
       "      <td>4019.0</td>\n",
       "    </tr>\n",
       "    <tr>\n",
       "      <td>2</td>\n",
       "      <td>Abbotsford</td>\n",
       "      <td>25 Bloomburg St</td>\n",
       "      <td>2</td>\n",
       "      <td>h</td>\n",
       "      <td>1035000.0</td>\n",
       "      <td>S</td>\n",
       "      <td>Biggin</td>\n",
       "      <td>4/02/2016</td>\n",
       "      <td>2.5</td>\n",
       "      <td>3067.0</td>\n",
       "      <td>...</td>\n",
       "      <td>1.0</td>\n",
       "      <td>0.0</td>\n",
       "      <td>156.0</td>\n",
       "      <td>79.0</td>\n",
       "      <td>1900.0</td>\n",
       "      <td>Yarra City Council</td>\n",
       "      <td>-37.8079</td>\n",
       "      <td>144.9934</td>\n",
       "      <td>Northern Metropolitan</td>\n",
       "      <td>4019.0</td>\n",
       "    </tr>\n",
       "    <tr>\n",
       "      <td>3</td>\n",
       "      <td>Abbotsford</td>\n",
       "      <td>18/659 Victoria St</td>\n",
       "      <td>3</td>\n",
       "      <td>u</td>\n",
       "      <td>NaN</td>\n",
       "      <td>VB</td>\n",
       "      <td>Rounds</td>\n",
       "      <td>4/02/2016</td>\n",
       "      <td>2.5</td>\n",
       "      <td>3067.0</td>\n",
       "      <td>...</td>\n",
       "      <td>2.0</td>\n",
       "      <td>1.0</td>\n",
       "      <td>0.0</td>\n",
       "      <td>NaN</td>\n",
       "      <td>NaN</td>\n",
       "      <td>Yarra City Council</td>\n",
       "      <td>-37.8114</td>\n",
       "      <td>145.0116</td>\n",
       "      <td>Northern Metropolitan</td>\n",
       "      <td>4019.0</td>\n",
       "    </tr>\n",
       "    <tr>\n",
       "      <td>4</td>\n",
       "      <td>Abbotsford</td>\n",
       "      <td>5 Charles St</td>\n",
       "      <td>3</td>\n",
       "      <td>h</td>\n",
       "      <td>1465000.0</td>\n",
       "      <td>SP</td>\n",
       "      <td>Biggin</td>\n",
       "      <td>4/03/2017</td>\n",
       "      <td>2.5</td>\n",
       "      <td>3067.0</td>\n",
       "      <td>...</td>\n",
       "      <td>2.0</td>\n",
       "      <td>0.0</td>\n",
       "      <td>134.0</td>\n",
       "      <td>150.0</td>\n",
       "      <td>1900.0</td>\n",
       "      <td>Yarra City Council</td>\n",
       "      <td>-37.8093</td>\n",
       "      <td>144.9944</td>\n",
       "      <td>Northern Metropolitan</td>\n",
       "      <td>4019.0</td>\n",
       "    </tr>\n",
       "    <tr>\n",
       "      <td>5</td>\n",
       "      <td>Abbotsford</td>\n",
       "      <td>40 Federation La</td>\n",
       "      <td>3</td>\n",
       "      <td>h</td>\n",
       "      <td>850000.0</td>\n",
       "      <td>PI</td>\n",
       "      <td>Biggin</td>\n",
       "      <td>4/03/2017</td>\n",
       "      <td>2.5</td>\n",
       "      <td>3067.0</td>\n",
       "      <td>...</td>\n",
       "      <td>2.0</td>\n",
       "      <td>1.0</td>\n",
       "      <td>94.0</td>\n",
       "      <td>NaN</td>\n",
       "      <td>NaN</td>\n",
       "      <td>Yarra City Council</td>\n",
       "      <td>-37.7969</td>\n",
       "      <td>144.9969</td>\n",
       "      <td>Northern Metropolitan</td>\n",
       "      <td>4019.0</td>\n",
       "    </tr>\n",
       "    <tr>\n",
       "      <td>6</td>\n",
       "      <td>Abbotsford</td>\n",
       "      <td>55a Park St</td>\n",
       "      <td>4</td>\n",
       "      <td>h</td>\n",
       "      <td>1600000.0</td>\n",
       "      <td>VB</td>\n",
       "      <td>Nelson</td>\n",
       "      <td>4/06/2016</td>\n",
       "      <td>2.5</td>\n",
       "      <td>3067.0</td>\n",
       "      <td>...</td>\n",
       "      <td>1.0</td>\n",
       "      <td>2.0</td>\n",
       "      <td>120.0</td>\n",
       "      <td>142.0</td>\n",
       "      <td>2014.0</td>\n",
       "      <td>Yarra City Council</td>\n",
       "      <td>-37.8072</td>\n",
       "      <td>144.9941</td>\n",
       "      <td>Northern Metropolitan</td>\n",
       "      <td>4019.0</td>\n",
       "    </tr>\n",
       "    <tr>\n",
       "      <td>7</td>\n",
       "      <td>Abbotsford</td>\n",
       "      <td>16 Maugie St</td>\n",
       "      <td>4</td>\n",
       "      <td>h</td>\n",
       "      <td>NaN</td>\n",
       "      <td>SN</td>\n",
       "      <td>Nelson</td>\n",
       "      <td>6/08/2016</td>\n",
       "      <td>2.5</td>\n",
       "      <td>3067.0</td>\n",
       "      <td>...</td>\n",
       "      <td>2.0</td>\n",
       "      <td>2.0</td>\n",
       "      <td>400.0</td>\n",
       "      <td>220.0</td>\n",
       "      <td>2006.0</td>\n",
       "      <td>Yarra City Council</td>\n",
       "      <td>-37.7965</td>\n",
       "      <td>144.9965</td>\n",
       "      <td>Northern Metropolitan</td>\n",
       "      <td>4019.0</td>\n",
       "    </tr>\n",
       "    <tr>\n",
       "      <td>8</td>\n",
       "      <td>Abbotsford</td>\n",
       "      <td>53 Turner St</td>\n",
       "      <td>2</td>\n",
       "      <td>h</td>\n",
       "      <td>NaN</td>\n",
       "      <td>S</td>\n",
       "      <td>Biggin</td>\n",
       "      <td>6/08/2016</td>\n",
       "      <td>2.5</td>\n",
       "      <td>3067.0</td>\n",
       "      <td>...</td>\n",
       "      <td>1.0</td>\n",
       "      <td>2.0</td>\n",
       "      <td>201.0</td>\n",
       "      <td>NaN</td>\n",
       "      <td>1900.0</td>\n",
       "      <td>Yarra City Council</td>\n",
       "      <td>-37.7995</td>\n",
       "      <td>144.9974</td>\n",
       "      <td>Northern Metropolitan</td>\n",
       "      <td>4019.0</td>\n",
       "    </tr>\n",
       "    <tr>\n",
       "      <td>9</td>\n",
       "      <td>Abbotsford</td>\n",
       "      <td>99 Turner St</td>\n",
       "      <td>2</td>\n",
       "      <td>h</td>\n",
       "      <td>NaN</td>\n",
       "      <td>S</td>\n",
       "      <td>Collins</td>\n",
       "      <td>6/08/2016</td>\n",
       "      <td>2.5</td>\n",
       "      <td>3067.0</td>\n",
       "      <td>...</td>\n",
       "      <td>2.0</td>\n",
       "      <td>1.0</td>\n",
       "      <td>202.0</td>\n",
       "      <td>NaN</td>\n",
       "      <td>1900.0</td>\n",
       "      <td>Yarra City Council</td>\n",
       "      <td>-37.7996</td>\n",
       "      <td>144.9989</td>\n",
       "      <td>Northern Metropolitan</td>\n",
       "      <td>4019.0</td>\n",
       "    </tr>\n",
       "  </tbody>\n",
       "</table>\n",
       "<p>10 rows × 21 columns</p>\n",
       "</div>"
      ],
      "text/plain": [
       "       Suburb             Address  Rooms Type      Price Method  SellerG  \\\n",
       "0  Abbotsford       68 Studley St      2    h        NaN     SS   Jellis   \n",
       "1  Abbotsford        85 Turner St      2    h  1480000.0      S   Biggin   \n",
       "2  Abbotsford     25 Bloomburg St      2    h  1035000.0      S   Biggin   \n",
       "3  Abbotsford  18/659 Victoria St      3    u        NaN     VB   Rounds   \n",
       "4  Abbotsford        5 Charles St      3    h  1465000.0     SP   Biggin   \n",
       "5  Abbotsford    40 Federation La      3    h   850000.0     PI   Biggin   \n",
       "6  Abbotsford         55a Park St      4    h  1600000.0     VB   Nelson   \n",
       "7  Abbotsford        16 Maugie St      4    h        NaN     SN   Nelson   \n",
       "8  Abbotsford        53 Turner St      2    h        NaN      S   Biggin   \n",
       "9  Abbotsford        99 Turner St      2    h        NaN      S  Collins   \n",
       "\n",
       "        Date  Distance  Postcode  ...  Bathroom  Car  Landsize  BuildingArea  \\\n",
       "0  3/09/2016       2.5    3067.0  ...       1.0  1.0     126.0           NaN   \n",
       "1  3/12/2016       2.5    3067.0  ...       1.0  1.0     202.0           NaN   \n",
       "2  4/02/2016       2.5    3067.0  ...       1.0  0.0     156.0          79.0   \n",
       "3  4/02/2016       2.5    3067.0  ...       2.0  1.0       0.0           NaN   \n",
       "4  4/03/2017       2.5    3067.0  ...       2.0  0.0     134.0         150.0   \n",
       "5  4/03/2017       2.5    3067.0  ...       2.0  1.0      94.0           NaN   \n",
       "6  4/06/2016       2.5    3067.0  ...       1.0  2.0     120.0         142.0   \n",
       "7  6/08/2016       2.5    3067.0  ...       2.0  2.0     400.0         220.0   \n",
       "8  6/08/2016       2.5    3067.0  ...       1.0  2.0     201.0           NaN   \n",
       "9  6/08/2016       2.5    3067.0  ...       2.0  1.0     202.0           NaN   \n",
       "\n",
       "   YearBuilt         CouncilArea Lattitude  Longtitude             Regionname  \\\n",
       "0        NaN  Yarra City Council  -37.8014    144.9958  Northern Metropolitan   \n",
       "1        NaN  Yarra City Council  -37.7996    144.9984  Northern Metropolitan   \n",
       "2     1900.0  Yarra City Council  -37.8079    144.9934  Northern Metropolitan   \n",
       "3        NaN  Yarra City Council  -37.8114    145.0116  Northern Metropolitan   \n",
       "4     1900.0  Yarra City Council  -37.8093    144.9944  Northern Metropolitan   \n",
       "5        NaN  Yarra City Council  -37.7969    144.9969  Northern Metropolitan   \n",
       "6     2014.0  Yarra City Council  -37.8072    144.9941  Northern Metropolitan   \n",
       "7     2006.0  Yarra City Council  -37.7965    144.9965  Northern Metropolitan   \n",
       "8     1900.0  Yarra City Council  -37.7995    144.9974  Northern Metropolitan   \n",
       "9     1900.0  Yarra City Council  -37.7996    144.9989  Northern Metropolitan   \n",
       "\n",
       "  Propertycount  \n",
       "0        4019.0  \n",
       "1        4019.0  \n",
       "2        4019.0  \n",
       "3        4019.0  \n",
       "4        4019.0  \n",
       "5        4019.0  \n",
       "6        4019.0  \n",
       "7        4019.0  \n",
       "8        4019.0  \n",
       "9        4019.0  \n",
       "\n",
       "[10 rows x 21 columns]"
      ]
     },
     "execution_count": 1,
     "metadata": {},
     "output_type": "execute_result"
    }
   ],
   "source": [
    "import pandas as pd\n",
    "\n",
    "#reading csv file using pandas \n",
    "\n",
    "data=pd.read_csv('Melbourne_housing_FULL.csv')\n",
    "\n",
    "#printing the first 10 row\n",
    "\n",
    "data.head(10)\n"
   ]
  },
  {
   "cell_type": "code",
   "execution_count": 2,
   "metadata": {},
   "outputs": [
    {
     "data": {
      "text/plain": [
       "h    23980\n",
       "u     7297\n",
       "t     3580\n",
       "Name: Type, dtype: int64"
      ]
     },
     "execution_count": 2,
     "metadata": {},
     "output_type": "execute_result"
    }
   ],
   "source": [
    "data['Type'].value_counts()"
   ]
  },
  {
   "cell_type": "code",
   "execution_count": 3,
   "metadata": {},
   "outputs": [
    {
     "data": {
      "text/plain": [
       "(34857, 21)"
      ]
     },
     "execution_count": 3,
     "metadata": {},
     "output_type": "execute_result"
    }
   ],
   "source": [
    "#Knowing the structure of dataset \n",
    "data.shape"
   ]
  },
  {
   "cell_type": "code",
   "execution_count": 4,
   "metadata": {},
   "outputs": [
    {
     "data": {
      "text/html": [
       "<div>\n",
       "<style scoped>\n",
       "    .dataframe tbody tr th:only-of-type {\n",
       "        vertical-align: middle;\n",
       "    }\n",
       "\n",
       "    .dataframe tbody tr th {\n",
       "        vertical-align: top;\n",
       "    }\n",
       "\n",
       "    .dataframe thead th {\n",
       "        text-align: right;\n",
       "    }\n",
       "</style>\n",
       "<table border=\"1\" class=\"dataframe\">\n",
       "  <thead>\n",
       "    <tr style=\"text-align: right;\">\n",
       "      <th></th>\n",
       "      <th>Rooms</th>\n",
       "      <th>Price</th>\n",
       "      <th>Distance</th>\n",
       "      <th>Postcode</th>\n",
       "      <th>Bedroom2</th>\n",
       "      <th>Bathroom</th>\n",
       "      <th>Car</th>\n",
       "      <th>Landsize</th>\n",
       "      <th>BuildingArea</th>\n",
       "      <th>YearBuilt</th>\n",
       "      <th>Lattitude</th>\n",
       "      <th>Longtitude</th>\n",
       "      <th>Propertycount</th>\n",
       "    </tr>\n",
       "  </thead>\n",
       "  <tbody>\n",
       "    <tr>\n",
       "      <td>count</td>\n",
       "      <td>34857.000000</td>\n",
       "      <td>2.724700e+04</td>\n",
       "      <td>34856.000000</td>\n",
       "      <td>34856.000000</td>\n",
       "      <td>26640.000000</td>\n",
       "      <td>26631.000000</td>\n",
       "      <td>26129.000000</td>\n",
       "      <td>23047.000000</td>\n",
       "      <td>13742.00000</td>\n",
       "      <td>15551.000000</td>\n",
       "      <td>26881.000000</td>\n",
       "      <td>26881.000000</td>\n",
       "      <td>34854.000000</td>\n",
       "    </tr>\n",
       "    <tr>\n",
       "      <td>mean</td>\n",
       "      <td>3.031012</td>\n",
       "      <td>1.050173e+06</td>\n",
       "      <td>11.184929</td>\n",
       "      <td>3116.062859</td>\n",
       "      <td>3.084647</td>\n",
       "      <td>1.624798</td>\n",
       "      <td>1.728845</td>\n",
       "      <td>593.598993</td>\n",
       "      <td>160.25640</td>\n",
       "      <td>1965.289885</td>\n",
       "      <td>-37.810634</td>\n",
       "      <td>145.001851</td>\n",
       "      <td>7572.888306</td>\n",
       "    </tr>\n",
       "    <tr>\n",
       "      <td>std</td>\n",
       "      <td>0.969933</td>\n",
       "      <td>6.414671e+05</td>\n",
       "      <td>6.788892</td>\n",
       "      <td>109.023903</td>\n",
       "      <td>0.980690</td>\n",
       "      <td>0.724212</td>\n",
       "      <td>1.010771</td>\n",
       "      <td>3398.841946</td>\n",
       "      <td>401.26706</td>\n",
       "      <td>37.328178</td>\n",
       "      <td>0.090279</td>\n",
       "      <td>0.120169</td>\n",
       "      <td>4428.090313</td>\n",
       "    </tr>\n",
       "    <tr>\n",
       "      <td>min</td>\n",
       "      <td>1.000000</td>\n",
       "      <td>8.500000e+04</td>\n",
       "      <td>0.000000</td>\n",
       "      <td>3000.000000</td>\n",
       "      <td>0.000000</td>\n",
       "      <td>0.000000</td>\n",
       "      <td>0.000000</td>\n",
       "      <td>0.000000</td>\n",
       "      <td>0.00000</td>\n",
       "      <td>1196.000000</td>\n",
       "      <td>-38.190430</td>\n",
       "      <td>144.423790</td>\n",
       "      <td>83.000000</td>\n",
       "    </tr>\n",
       "    <tr>\n",
       "      <td>25%</td>\n",
       "      <td>2.000000</td>\n",
       "      <td>6.350000e+05</td>\n",
       "      <td>6.400000</td>\n",
       "      <td>3051.000000</td>\n",
       "      <td>2.000000</td>\n",
       "      <td>1.000000</td>\n",
       "      <td>1.000000</td>\n",
       "      <td>224.000000</td>\n",
       "      <td>102.00000</td>\n",
       "      <td>1940.000000</td>\n",
       "      <td>-37.862950</td>\n",
       "      <td>144.933500</td>\n",
       "      <td>4385.000000</td>\n",
       "    </tr>\n",
       "    <tr>\n",
       "      <td>50%</td>\n",
       "      <td>3.000000</td>\n",
       "      <td>8.700000e+05</td>\n",
       "      <td>10.300000</td>\n",
       "      <td>3103.000000</td>\n",
       "      <td>3.000000</td>\n",
       "      <td>2.000000</td>\n",
       "      <td>2.000000</td>\n",
       "      <td>521.000000</td>\n",
       "      <td>136.00000</td>\n",
       "      <td>1970.000000</td>\n",
       "      <td>-37.807600</td>\n",
       "      <td>145.007800</td>\n",
       "      <td>6763.000000</td>\n",
       "    </tr>\n",
       "    <tr>\n",
       "      <td>75%</td>\n",
       "      <td>4.000000</td>\n",
       "      <td>1.295000e+06</td>\n",
       "      <td>14.000000</td>\n",
       "      <td>3156.000000</td>\n",
       "      <td>4.000000</td>\n",
       "      <td>2.000000</td>\n",
       "      <td>2.000000</td>\n",
       "      <td>670.000000</td>\n",
       "      <td>188.00000</td>\n",
       "      <td>2000.000000</td>\n",
       "      <td>-37.754100</td>\n",
       "      <td>145.071900</td>\n",
       "      <td>10412.000000</td>\n",
       "    </tr>\n",
       "    <tr>\n",
       "      <td>max</td>\n",
       "      <td>16.000000</td>\n",
       "      <td>1.120000e+07</td>\n",
       "      <td>48.100000</td>\n",
       "      <td>3978.000000</td>\n",
       "      <td>30.000000</td>\n",
       "      <td>12.000000</td>\n",
       "      <td>26.000000</td>\n",
       "      <td>433014.000000</td>\n",
       "      <td>44515.00000</td>\n",
       "      <td>2106.000000</td>\n",
       "      <td>-37.390200</td>\n",
       "      <td>145.526350</td>\n",
       "      <td>21650.000000</td>\n",
       "    </tr>\n",
       "  </tbody>\n",
       "</table>\n",
       "</div>"
      ],
      "text/plain": [
       "              Rooms         Price      Distance      Postcode      Bedroom2  \\\n",
       "count  34857.000000  2.724700e+04  34856.000000  34856.000000  26640.000000   \n",
       "mean       3.031012  1.050173e+06     11.184929   3116.062859      3.084647   \n",
       "std        0.969933  6.414671e+05      6.788892    109.023903      0.980690   \n",
       "min        1.000000  8.500000e+04      0.000000   3000.000000      0.000000   \n",
       "25%        2.000000  6.350000e+05      6.400000   3051.000000      2.000000   \n",
       "50%        3.000000  8.700000e+05     10.300000   3103.000000      3.000000   \n",
       "75%        4.000000  1.295000e+06     14.000000   3156.000000      4.000000   \n",
       "max       16.000000  1.120000e+07     48.100000   3978.000000     30.000000   \n",
       "\n",
       "           Bathroom           Car       Landsize  BuildingArea     YearBuilt  \\\n",
       "count  26631.000000  26129.000000   23047.000000   13742.00000  15551.000000   \n",
       "mean       1.624798      1.728845     593.598993     160.25640   1965.289885   \n",
       "std        0.724212      1.010771    3398.841946     401.26706     37.328178   \n",
       "min        0.000000      0.000000       0.000000       0.00000   1196.000000   \n",
       "25%        1.000000      1.000000     224.000000     102.00000   1940.000000   \n",
       "50%        2.000000      2.000000     521.000000     136.00000   1970.000000   \n",
       "75%        2.000000      2.000000     670.000000     188.00000   2000.000000   \n",
       "max       12.000000     26.000000  433014.000000   44515.00000   2106.000000   \n",
       "\n",
       "          Lattitude    Longtitude  Propertycount  \n",
       "count  26881.000000  26881.000000   34854.000000  \n",
       "mean     -37.810634    145.001851    7572.888306  \n",
       "std        0.090279      0.120169    4428.090313  \n",
       "min      -38.190430    144.423790      83.000000  \n",
       "25%      -37.862950    144.933500    4385.000000  \n",
       "50%      -37.807600    145.007800    6763.000000  \n",
       "75%      -37.754100    145.071900   10412.000000  \n",
       "max      -37.390200    145.526350   21650.000000  "
      ]
     },
     "execution_count": 4,
     "metadata": {},
     "output_type": "execute_result"
    }
   ],
   "source": [
    "#describing the dataset\n",
    "\n",
    "data.describe()"
   ]
  },
  {
   "cell_type": "code",
   "execution_count": 5,
   "metadata": {},
   "outputs": [
    {
     "name": "stdout",
     "output_type": "stream",
     "text": [
      "<class 'pandas.core.frame.DataFrame'>\n",
      "RangeIndex: 34857 entries, 0 to 34856\n",
      "Data columns (total 21 columns):\n",
      "Suburb           34857 non-null object\n",
      "Address          34857 non-null object\n",
      "Rooms            34857 non-null int64\n",
      "Type             34857 non-null object\n",
      "Price            27247 non-null float64\n",
      "Method           34857 non-null object\n",
      "SellerG          34857 non-null object\n",
      "Date             34857 non-null object\n",
      "Distance         34856 non-null float64\n",
      "Postcode         34856 non-null float64\n",
      "Bedroom2         26640 non-null float64\n",
      "Bathroom         26631 non-null float64\n",
      "Car              26129 non-null float64\n",
      "Landsize         23047 non-null float64\n",
      "BuildingArea     13742 non-null float64\n",
      "YearBuilt        15551 non-null float64\n",
      "CouncilArea      34854 non-null object\n",
      "Lattitude        26881 non-null float64\n",
      "Longtitude       26881 non-null float64\n",
      "Regionname       34854 non-null object\n",
      "Propertycount    34854 non-null float64\n",
      "dtypes: float64(12), int64(1), object(8)\n",
      "memory usage: 5.6+ MB\n"
     ]
    }
   ],
   "source": [
    "# Finding the datatype of each feature\n",
    "data.info()"
   ]
  },
  {
   "cell_type": "code",
   "execution_count": 6,
   "metadata": {},
   "outputs": [
    {
     "data": {
      "text/plain": [
       "(8,)"
      ]
     },
     "execution_count": 6,
     "metadata": {},
     "output_type": "execute_result"
    }
   ],
   "source": [
    "# Calculating number of columns with 'Object' as data type\n",
    "object_column =data.select_dtypes(['object']).columns\n",
    "object_column.shape"
   ]
  },
  {
   "cell_type": "code",
   "execution_count": 7,
   "metadata": {},
   "outputs": [
    {
     "name": "stdout",
     "output_type": "stream",
     "text": [
      "(34857, 21)\n",
      "Empty DataFrame\n",
      "Columns: [Suburb, Address, Rooms, Type, Price, Method, SellerG, Date, Distance, Postcode, Bedroom2, Bathroom, Car, Landsize, BuildingArea, YearBuilt, CouncilArea, Lattitude, Longtitude, Regionname, Propertycount]\n",
      "Index: []\n",
      "\n",
      "[0 rows x 21 columns]\n"
     ]
    }
   ],
   "source": [
    "print(data.shape)\n",
    "# removing duplicated\n",
    "\n",
    "data=data.drop_duplicates()\n",
    "\n",
    "# Number of duplicated rows\n",
    "\n",
    "no_of_duplicate=data[data.duplicated()]\n",
    "\n",
    "print(no_of_duplicate)\n",
    "        "
   ]
  },
  {
   "cell_type": "code",
   "execution_count": 8,
   "metadata": {},
   "outputs": [
    {
     "name": "stdout",
     "output_type": "stream",
     "text": [
      "<class 'pandas.core.frame.DataFrame'>\n",
      "Int64Index: 34856 entries, 0 to 34856\n",
      "Data columns (total 21 columns):\n",
      "Suburb           34856 non-null category\n",
      "Address          34856 non-null category\n",
      "Rooms            34856 non-null int64\n",
      "Type             34856 non-null category\n",
      "Price            27247 non-null float64\n",
      "Method           34856 non-null category\n",
      "SellerG          34856 non-null category\n",
      "Date             34856 non-null category\n",
      "Distance         34855 non-null float64\n",
      "Postcode         34855 non-null float64\n",
      "Bedroom2         26639 non-null float64\n",
      "Bathroom         26630 non-null float64\n",
      "Car              26128 non-null float64\n",
      "Landsize         23046 non-null float64\n",
      "BuildingArea     13741 non-null float64\n",
      "YearBuilt        15550 non-null float64\n",
      "CouncilArea      34853 non-null category\n",
      "Lattitude        26880 non-null float64\n",
      "Longtitude       26880 non-null float64\n",
      "Regionname       34853 non-null category\n",
      "Propertycount    34853 non-null float64\n",
      "dtypes: category(8), float64(12), int64(1)\n",
      "memory usage: 5.7 MB\n"
     ]
    }
   ],
   "source": [
    "# Converting all object dtype to category\n",
    "data[object_column]=data[object_column].astype('category')\n",
    "data.select_dtypes('object').columns\n",
    "data.info()"
   ]
  },
  {
   "cell_type": "code",
   "execution_count": 9,
   "metadata": {},
   "outputs": [
    {
     "data": {
      "text/plain": [
       "Suburb               0\n",
       "Address              0\n",
       "Rooms                0\n",
       "Type                 0\n",
       "Price             7609\n",
       "Method               0\n",
       "SellerG              0\n",
       "Date                 0\n",
       "Distance             1\n",
       "Postcode             1\n",
       "Bedroom2          8217\n",
       "Bathroom          8226\n",
       "Car               8728\n",
       "Landsize         11810\n",
       "BuildingArea     21115\n",
       "YearBuilt        19306\n",
       "CouncilArea          3\n",
       "Lattitude         7976\n",
       "Longtitude        7976\n",
       "Regionname           3\n",
       "Propertycount        3\n",
       "dtype: int64"
      ]
     },
     "execution_count": 9,
     "metadata": {},
     "output_type": "execute_result"
    }
   ],
   "source": [
    "# Finding null values\n",
    "data.isnull().sum()"
   ]
  },
  {
   "cell_type": "code",
   "execution_count": 11,
   "metadata": {},
   "outputs": [
    {
     "data": {
      "text/plain": [
       "<matplotlib.axes._subplots.AxesSubplot at 0xc17a7c8>"
      ]
     },
     "execution_count": 11,
     "metadata": {},
     "output_type": "execute_result"
    },
    {
     "data": {
      "image/png": "[encoded data removed]",
      "text/plain": [
       "<Figure size 432x288 with 1 Axes>"
      ]
     },
     "metadata": {
      "needs_background": "light"
     },
     "output_type": "display_data"
    }
   ],
   "source": [
    "#! pip install seaborn\n",
    "import seaborn as sns\n",
    "sns.boxplot(data['Bedroom2'])"
   ]
  },
  {
   "cell_type": "code",
   "execution_count": 12,
   "metadata": {},
   "outputs": [
    {
     "name": "stdout",
     "output_type": "stream",
     "text": [
      "Error encoding CouncilArea\n",
      "Error encoding Regionname\n"
     ]
    }
   ],
   "source": [
    "#label encoder for converting string of categorical type to categorical numbers \n",
    "from sklearn.preprocessing import LabelEncoder\n",
    "def dummyEncode(df):\n",
    "          columnsToEncode = list(df.select_dtypes(include=['category','object']))\n",
    "          le = LabelEncoder()\n",
    "          for feature in columnsToEncode:\n",
    "              try:\n",
    "                  df[feature] = le.fit_transform(df[feature])\n",
    "              except:\n",
    "                  print('Error encoding '+feature)\n",
    "          return df\n",
    "df = dummyEncode(data)"
   ]
  },
  {
   "cell_type": "code",
   "execution_count": 13,
   "metadata": {},
   "outputs": [],
   "source": [
    "#for changing length of string to max and then applying label Encoder\n",
    "le = LabelEncoder()\n",
    "df['CouncilArea'] = df['CouncilArea'].astype('|S')\n",
    "df['Regionname'] = df['Regionname'].astype('|S')\n",
    "df['Regionname'] = le.fit_transform(df['Regionname'])\n",
    "df['CouncilArea'] = le.fit_transform(df['CouncilArea'])"
   ]
  },
  {
   "cell_type": "code",
   "execution_count": 14,
   "metadata": {},
   "outputs": [
    {
     "data": {
      "text/plain": [
       "265    844\n",
       "32     583\n",
       "266    552\n",
       "150    491\n",
       "262    485\n",
       "      ... \n",
       "156      1\n",
       "40       1\n",
       "92       1\n",
       "347      1\n",
       "338      1\n",
       "Name: Suburb, Length: 351, dtype: int64"
      ]
     },
     "execution_count": 14,
     "metadata": {},
     "output_type": "execute_result"
    }
   ],
   "source": [
    "df['Suburb'].value_counts()"
   ]
  },
  {
   "cell_type": "code",
   "execution_count": 15,
   "metadata": {},
   "outputs": [
    {
     "data": {
      "text/plain": [
       "25128    6\n",
       "15648    4\n",
       "14601    3\n",
       "5967     3\n",
       "5072     3\n",
       "        ..\n",
       "8657     1\n",
       "14802    1\n",
       "12755    1\n",
       "2516     1\n",
       "0        1\n",
       "Name: Address, Length: 34009, dtype: int64"
      ]
     },
     "execution_count": 15,
     "metadata": {},
     "output_type": "execute_result"
    }
   ],
   "source": [
    "df['Address'].value_counts()"
   ]
  },
  {
   "cell_type": "code",
   "execution_count": 16,
   "metadata": {},
   "outputs": [
    {
     "data": {
      "text/plain": [
       "25128    6\n",
       "15648    4\n",
       "10762    3\n",
       "29723    3\n",
       "5197     3\n",
       "        ..\n",
       "14802    1\n",
       "12755    1\n",
       "2516     1\n",
       "469      1\n",
       "2049     1\n",
       "Name: Address, Length: 34008, dtype: int64"
      ]
     },
     "execution_count": 16,
     "metadata": {},
     "output_type": "execute_result"
    }
   ],
   "source": [
    "#change 0 to none\n",
    "df['Address']=df['Address'].replace(0,None)\n",
    "df['Address'].value_counts()"
   ]
  },
  {
   "cell_type": "code",
   "execution_count": 17,
   "metadata": {},
   "outputs": [
    {
     "data": {
      "text/plain": [
       "3     15083\n",
       "2      8332\n",
       "4      7956\n",
       "5      1737\n",
       "1      1479\n",
       "6       204\n",
       "7        32\n",
       "8        19\n",
       "10        6\n",
       "9         4\n",
       "12        3\n",
       "16        1\n",
       "Name: Rooms, dtype: int64"
      ]
     },
     "execution_count": 17,
     "metadata": {},
     "output_type": "execute_result"
    }
   ],
   "source": [
    "df['Rooms'].value_counts()"
   ]
  },
  {
   "cell_type": "code",
   "execution_count": 18,
   "metadata": {},
   "outputs": [
    {
     "data": {
      "text/plain": [
       "0    23980\n",
       "2     7297\n",
       "1     3579\n",
       "Name: Type, dtype: int64"
      ]
     },
     "execution_count": 18,
     "metadata": {},
     "output_type": "execute_result"
    }
   ],
   "source": [
    "df['Type'].value_counts()"
   ]
  },
  {
   "cell_type": "code",
   "execution_count": 19,
   "metadata": {},
   "outputs": [
    {
     "data": {
      "text/plain": [
       "2    19744\n",
       "5     5094\n",
       "0     4850\n",
       "7     3108\n",
       "4     1317\n",
       "1      308\n",
       "3      226\n",
       "8      173\n",
       "6       36\n",
       "Name: Method, dtype: int64"
      ]
     },
     "execution_count": 19,
     "metadata": {},
     "output_type": "execute_result"
    }
   ],
   "source": [
    "df['Method'].value_counts()"
   ]
  },
  {
   "cell_type": "code",
   "execution_count": 20,
   "metadata": {},
   "outputs": [
    {
     "data": {
      "text/plain": [
       "155    3358\n",
       "227    3236\n",
       "23     3235\n",
       "370    2623\n",
       "198    2027\n",
       "       ... \n",
       "271       1\n",
       "239       1\n",
       "207       1\n",
       "270       1\n",
       "303       1\n",
       "Name: SellerG, Length: 388, dtype: int64"
      ]
     },
     "execution_count": 20,
     "metadata": {},
     "output_type": "execute_result"
    }
   ],
   "source": [
    "df['SellerG'].value_counts()"
   ]
  },
  {
   "cell_type": "code",
   "execution_count": 21,
   "metadata": {},
   "outputs": [
    {
     "data": {
      "text/plain": [
       "52    1119\n",
       "21     970\n",
       "38     941\n",
       "77     927\n",
       "42     902\n",
       "      ... \n",
       "63      44\n",
       "62      22\n",
       "29      19\n",
       "45      12\n",
       "49       3\n",
       "Name: Date, Length: 78, dtype: int64"
      ]
     },
     "execution_count": 21,
     "metadata": {},
     "output_type": "execute_result"
    }
   ],
   "source": [
    "df['Date'].value_counts()"
   ]
  },
  {
   "cell_type": "code",
   "execution_count": 22,
   "metadata": {},
   "outputs": [
    {
     "data": {
      "text/plain": [
       "11.2    1420\n",
       "13.8     681\n",
       "9.2      665\n",
       "7.8      662\n",
       "10.5     660\n",
       "        ... \n",
       "33.0       1\n",
       "31.4       1\n",
       "30.6       1\n",
       "22.9       1\n",
       "32.6       1\n",
       "Name: Distance, Length: 215, dtype: int64"
      ]
     },
     "execution_count": 22,
     "metadata": {},
     "output_type": "execute_result"
    }
   ],
   "source": [
    "df['Distance'].value_counts()"
   ]
  },
  {
   "cell_type": "code",
   "execution_count": 23,
   "metadata": {},
   "outputs": [
    {
     "data": {
      "text/plain": [
       "3073.0    844\n",
       "3046.0    638\n",
       "3020.0    617\n",
       "3121.0    612\n",
       "3165.0    583\n",
       "         ... \n",
       "3139.0      1\n",
       "3159.0      1\n",
       "3793.0      1\n",
       "3788.0      1\n",
       "3428.0      1\n",
       "Name: Postcode, Length: 211, dtype: int64"
      ]
     },
     "execution_count": 23,
     "metadata": {},
     "output_type": "execute_result"
    }
   ],
   "source": [
    "df['Postcode'].value_counts()"
   ]
  },
  {
   "cell_type": "code",
   "execution_count": 24,
   "metadata": {},
   "outputs": [
    {
     "data": {
      "text/plain": [
       "3.0     11880\n",
       "4.0      6348\n",
       "2.0      5777\n",
       "5.0      1427\n",
       "1.0       966\n",
       "6.0       168\n",
       "7.0        30\n",
       "0.0        17\n",
       "8.0        13\n",
       "9.0         5\n",
       "10.0        4\n",
       "30.0        1\n",
       "12.0        1\n",
       "20.0        1\n",
       "16.0        1\n",
       "Name: Bedroom2, dtype: int64"
      ]
     },
     "execution_count": 24,
     "metadata": {},
     "output_type": "execute_result"
    }
   ],
   "source": [
    "df['Bedroom2'].value_counts()"
   ]
  },
  {
   "cell_type": "code",
   "execution_count": 25,
   "metadata": {},
   "outputs": [
    {
     "data": {
      "text/plain": [
       "1.0     12969\n",
       "2.0     11064\n",
       "3.0      2180\n",
       "4.0       269\n",
       "5.0        77\n",
       "0.0        46\n",
       "6.0        16\n",
       "7.0         4\n",
       "8.0         3\n",
       "9.0         1\n",
       "12.0        1\n",
       "Name: Bathroom, dtype: int64"
      ]
     },
     "execution_count": 25,
     "metadata": {},
     "output_type": "execute_result"
    }
   ],
   "source": [
    "df['Bathroom'].value_counts()"
   ]
  },
  {
   "cell_type": "code",
   "execution_count": 26,
   "metadata": {},
   "outputs": [
    {
     "data": {
      "text/plain": [
       "2.0     12213\n",
       "1.0      9164\n",
       "0.0      1631\n",
       "3.0      1606\n",
       "4.0      1161\n",
       "5.0       151\n",
       "6.0       140\n",
       "7.0        25\n",
       "8.0        23\n",
       "10.0        6\n",
       "9.0         3\n",
       "11.0        2\n",
       "26.0        1\n",
       "12.0        1\n",
       "18.0        1\n",
       "Name: Car, dtype: int64"
      ]
     },
     "execution_count": 26,
     "metadata": {},
     "output_type": "execute_result"
    }
   ],
   "source": [
    "df['Car'].value_counts()"
   ]
  },
  {
   "cell_type": "code",
   "execution_count": 27,
   "metadata": {},
   "outputs": [
    {
     "data": {
      "text/plain": [
       "0.0       2437\n",
       "650.0      204\n",
       "697.0      123\n",
       "585.0       97\n",
       "700.0       86\n",
       "          ... \n",
       "38.0         1\n",
       "1633.0       1\n",
       "1856.0       1\n",
       "1957.0       1\n",
       "1543.0       1\n",
       "Name: Landsize, Length: 1684, dtype: int64"
      ]
     },
     "execution_count": 27,
     "metadata": {},
     "output_type": "execute_result"
    }
   ],
   "source": [
    "df['Landsize'].value_counts()"
   ]
  },
  {
   "cell_type": "code",
   "execution_count": 28,
   "metadata": {},
   "outputs": [],
   "source": [
    "\n",
    "df['Landsize']=df['Landsize'].replace(0.0,None)"
   ]
  },
  {
   "cell_type": "code",
   "execution_count": 29,
   "metadata": {},
   "outputs": [
    {
     "data": {
      "text/plain": [
       "120.00     185\n",
       "100.00     161\n",
       "110.00     159\n",
       "130.00     153\n",
       "115.00     149\n",
       "          ... \n",
       "157.85       1\n",
       "130.52       1\n",
       "196.10       1\n",
       "2002.00      1\n",
       "664.00       1\n",
       "Name: BuildingArea, Length: 740, dtype: int64"
      ]
     },
     "execution_count": 29,
     "metadata": {},
     "output_type": "execute_result"
    }
   ],
   "source": [
    "df['BuildingArea'].value_counts()"
   ]
  },
  {
   "cell_type": "code",
   "execution_count": 30,
   "metadata": {},
   "outputs": [
    {
     "data": {
      "text/plain": [
       "1970.0    1490\n",
       "1960.0    1260\n",
       "1950.0    1089\n",
       "1980.0     726\n",
       "1900.0     606\n",
       "          ... \n",
       "1868.0       1\n",
       "1883.0       1\n",
       "1196.0       1\n",
       "1855.0       1\n",
       "1830.0       1\n",
       "Name: YearBuilt, Length: 160, dtype: int64"
      ]
     },
     "execution_count": 30,
     "metadata": {},
     "output_type": "execute_result"
    }
   ],
   "source": [
    "df['YearBuilt'].value_counts()"
   ]
  },
  {
   "cell_type": "code",
   "execution_count": 31,
   "metadata": {},
   "outputs": [
    {
     "data": {
      "text/plain": [
       "2     3675\n",
       "6     2851\n",
       "24    2122\n",
       "8     2006\n",
       "18    1952\n",
       "0     1861\n",
       "22    1791\n",
       "1     1764\n",
       "3     1593\n",
       "21    1466\n",
       "27    1460\n",
       "16    1451\n",
       "26    1280\n",
       "11    1214\n",
       "31    1186\n",
       "15    1045\n",
       "10     942\n",
       "12     871\n",
       "29     828\n",
       "30     624\n",
       "28     618\n",
       "17     506\n",
       "13     371\n",
       "9      314\n",
       "19     292\n",
       "7      290\n",
       "5      176\n",
       "32     102\n",
       "25      88\n",
       "14      46\n",
       "4       41\n",
       "20      20\n",
       "23       7\n",
       "33       3\n",
       "Name: CouncilArea, dtype: int64"
      ]
     },
     "execution_count": 31,
     "metadata": {},
     "output_type": "execute_result"
    }
   ],
   "source": [
    "df['CouncilArea'].value_counts()"
   ]
  },
  {
   "cell_type": "code",
   "execution_count": 32,
   "metadata": {},
   "outputs": [
    {
     "data": {
      "text/plain": [
       "-37.83610    25\n",
       "-37.84240    22\n",
       "-37.79560    20\n",
       "-37.81980    20\n",
       "-37.79690    18\n",
       "             ..\n",
       "-37.73953     1\n",
       "-37.59883     1\n",
       "-37.57355     1\n",
       "-37.91147     1\n",
       "-37.84346     1\n",
       "Name: Lattitude, Length: 13402, dtype: int64"
      ]
     },
     "execution_count": 32,
     "metadata": {},
     "output_type": "execute_result"
    }
   ],
   "source": [
    "df['Lattitude'].value_counts()"
   ]
  },
  {
   "cell_type": "code",
   "execution_count": 33,
   "metadata": {},
   "outputs": [
    {
     "data": {
      "text/plain": [
       "144.99660    21\n",
       "144.98500    17\n",
       "144.99100    17\n",
       "145.01040    17\n",
       "144.99110    16\n",
       "             ..\n",
       "145.00502     1\n",
       "144.91973     1\n",
       "145.41470     1\n",
       "145.15528     1\n",
       "145.23032     1\n",
       "Name: Longtitude, Length: 14524, dtype: int64"
      ]
     },
     "execution_count": 33,
     "metadata": {},
     "output_type": "execute_result"
    }
   ],
   "source": [
    "df['Longtitude'].value_counts()"
   ]
  },
  {
   "cell_type": "code",
   "execution_count": 34,
   "metadata": {},
   "outputs": [
    {
     "data": {
      "text/plain": [
       "5    11836\n",
       "2     9557\n",
       "6     6799\n",
       "0     4376\n",
       "4     1739\n",
       "1      228\n",
       "3      203\n",
       "7      115\n",
       "8        3\n",
       "Name: Regionname, dtype: int64"
      ]
     },
     "execution_count": 34,
     "metadata": {},
     "output_type": "execute_result"
    }
   ],
   "source": [
    "df['Regionname'].value_counts()"
   ]
  },
  {
   "cell_type": "code",
   "execution_count": 35,
   "metadata": {},
   "outputs": [
    {
     "data": {
      "text/plain": [
       "21650.0    844\n",
       "8870.0     722\n",
       "10969.0    583\n",
       "14949.0    552\n",
       "10412.0    491\n",
       "          ... \n",
       "5462.0       1\n",
       "129.0        1\n",
       "335.0        1\n",
       "1240.0       1\n",
       "271.0        1\n",
       "Name: Propertycount, Length: 342, dtype: int64"
      ]
     },
     "execution_count": 35,
     "metadata": {},
     "output_type": "execute_result"
    }
   ],
   "source": [
    "df['Propertycount'].value_counts()"
   ]
  },
  {
   "cell_type": "code",
   "execution_count": 36,
   "metadata": {},
   "outputs": [],
   "source": [
    "#finding missing values\n",
    "import sklearn\n",
    "import numpy as np\n",
    "from sklearn.experimental import enable_iterative_imputer\n",
    "from sklearn.impute import IterativeImputer\n",
    "imp = IterativeImputer(max_iter=10, random_state=0)\n",
    "imp.fit(df)\n",
    "df1=pd.DataFrame(np.round(imp.transform(df)))"
   ]
  },
  {
   "cell_type": "code",
   "execution_count": 37,
   "metadata": {},
   "outputs": [
    {
     "data": {
      "text/plain": [
       "3073.0    844\n",
       "3046.0    638\n",
       "3020.0    617\n",
       "3121.0    612\n",
       "3165.0    583\n",
       "         ... \n",
       "3788.0      1\n",
       "3786.0      1\n",
       "3139.0      1\n",
       "3428.0      1\n",
       "3110.0      1\n",
       "Name: Postcode, Length: 212, dtype: int64"
      ]
     },
     "execution_count": 37,
     "metadata": {},
     "output_type": "execute_result"
    }
   ],
   "source": [
    "df1.columns=data.columns\n",
    "df1['Postcode'].value_counts()"
   ]
  },
  {
   "cell_type": "code",
   "execution_count": 38,
   "metadata": {},
   "outputs": [
    {
     "data": {
      "text/plain": [
       " 650.0      227\n",
       " 697.0      142\n",
       " 585.0      113\n",
       " 696.0      105\n",
       " 700.0      104\n",
       "           ... \n",
       "-521.0        1\n",
       "-201.0        1\n",
       " 4230.0       1\n",
       " 1971.0       1\n",
       " 18862.0      1\n",
       "Name: Landsize, Length: 2751, dtype: int64"
      ]
     },
     "execution_count": 38,
     "metadata": {},
     "output_type": "execute_result"
    }
   ],
   "source": [
    "df1['Landsize'].value_counts()"
   ]
  },
  {
   "cell_type": "code",
   "execution_count": 39,
   "metadata": {},
   "outputs": [
    {
     "data": {
      "text/plain": [
       "<matplotlib.axes._subplots.AxesSubplot at 0xd2b5508>"
      ]
     },
     "execution_count": 39,
     "metadata": {},
     "output_type": "execute_result"
    },
    {
     "data": {
      "image/png": "[encoded data removed]",
      "text/plain": [
       "<Figure size 432x288 with 1 Axes>"
      ]
     },
     "metadata": {
      "needs_background": "light"
     },
     "output_type": "display_data"
    }
   ],
   "source": [
    "df1['Postcode'].plot()"
   ]
  },
  {
   "cell_type": "code",
   "execution_count": 40,
   "metadata": {},
   "outputs": [
    {
     "data": {
      "text/html": [
       "<div>\n",
       "<style scoped>\n",
       "    .dataframe tbody tr th:only-of-type {\n",
       "        vertical-align: middle;\n",
       "    }\n",
       "\n",
       "    .dataframe tbody tr th {\n",
       "        vertical-align: top;\n",
       "    }\n",
       "\n",
       "    .dataframe thead th {\n",
       "        text-align: right;\n",
       "    }\n",
       "</style>\n",
       "<table border=\"1\" class=\"dataframe\">\n",
       "  <thead>\n",
       "    <tr style=\"text-align: right;\">\n",
       "      <th></th>\n",
       "      <th>Suburb</th>\n",
       "      <th>Address</th>\n",
       "      <th>Rooms</th>\n",
       "      <th>Type</th>\n",
       "      <th>Price</th>\n",
       "      <th>Method</th>\n",
       "      <th>SellerG</th>\n",
       "      <th>Date</th>\n",
       "      <th>Distance</th>\n",
       "      <th>Postcode</th>\n",
       "      <th>...</th>\n",
       "      <th>Bathroom</th>\n",
       "      <th>Car</th>\n",
       "      <th>Landsize</th>\n",
       "      <th>BuildingArea</th>\n",
       "      <th>YearBuilt</th>\n",
       "      <th>CouncilArea</th>\n",
       "      <th>Lattitude</th>\n",
       "      <th>Longtitude</th>\n",
       "      <th>Regionname</th>\n",
       "      <th>Propertycount</th>\n",
       "    </tr>\n",
       "  </thead>\n",
       "  <tbody>\n",
       "    <tr>\n",
       "      <td>0</td>\n",
       "      <td>0.0</td>\n",
       "      <td>29458.0</td>\n",
       "      <td>2.0</td>\n",
       "      <td>0.0</td>\n",
       "      <td>1191267.0</td>\n",
       "      <td>6.0</td>\n",
       "      <td>155.0</td>\n",
       "      <td>58.0</td>\n",
       "      <td>2.0</td>\n",
       "      <td>3067.0</td>\n",
       "      <td>...</td>\n",
       "      <td>1.0</td>\n",
       "      <td>1.0</td>\n",
       "      <td>126.0</td>\n",
       "      <td>62.0</td>\n",
       "      <td>1922.0</td>\n",
       "      <td>31.0</td>\n",
       "      <td>-38.0</td>\n",
       "      <td>145.0</td>\n",
       "      <td>2.0</td>\n",
       "      <td>4019.0</td>\n",
       "    </tr>\n",
       "    <tr>\n",
       "      <td>1</td>\n",
       "      <td>0.0</td>\n",
       "      <td>32512.0</td>\n",
       "      <td>2.0</td>\n",
       "      <td>0.0</td>\n",
       "      <td>1480000.0</td>\n",
       "      <td>2.0</td>\n",
       "      <td>33.0</td>\n",
       "      <td>60.0</td>\n",
       "      <td>2.0</td>\n",
       "      <td>3067.0</td>\n",
       "      <td>...</td>\n",
       "      <td>1.0</td>\n",
       "      <td>1.0</td>\n",
       "      <td>202.0</td>\n",
       "      <td>87.0</td>\n",
       "      <td>1917.0</td>\n",
       "      <td>31.0</td>\n",
       "      <td>-38.0</td>\n",
       "      <td>145.0</td>\n",
       "      <td>2.0</td>\n",
       "      <td>4019.0</td>\n",
       "    </tr>\n",
       "    <tr>\n",
       "      <td>2</td>\n",
       "      <td>0.0</td>\n",
       "      <td>15389.0</td>\n",
       "      <td>2.0</td>\n",
       "      <td>0.0</td>\n",
       "      <td>1035000.0</td>\n",
       "      <td>2.0</td>\n",
       "      <td>33.0</td>\n",
       "      <td>63.0</td>\n",
       "      <td>2.0</td>\n",
       "      <td>3067.0</td>\n",
       "      <td>...</td>\n",
       "      <td>1.0</td>\n",
       "      <td>0.0</td>\n",
       "      <td>156.0</td>\n",
       "      <td>79.0</td>\n",
       "      <td>1900.0</td>\n",
       "      <td>31.0</td>\n",
       "      <td>-38.0</td>\n",
       "      <td>145.0</td>\n",
       "      <td>2.0</td>\n",
       "      <td>4019.0</td>\n",
       "    </tr>\n",
       "    <tr>\n",
       "      <td>3</td>\n",
       "      <td>0.0</td>\n",
       "      <td>9768.0</td>\n",
       "      <td>3.0</td>\n",
       "      <td>2.0</td>\n",
       "      <td>1112976.0</td>\n",
       "      <td>7.0</td>\n",
       "      <td>296.0</td>\n",
       "      <td>63.0</td>\n",
       "      <td>2.0</td>\n",
       "      <td>3067.0</td>\n",
       "      <td>...</td>\n",
       "      <td>2.0</td>\n",
       "      <td>1.0</td>\n",
       "      <td>156.0</td>\n",
       "      <td>70.0</td>\n",
       "      <td>1975.0</td>\n",
       "      <td>31.0</td>\n",
       "      <td>-38.0</td>\n",
       "      <td>145.0</td>\n",
       "      <td>2.0</td>\n",
       "      <td>4019.0</td>\n",
       "    </tr>\n",
       "    <tr>\n",
       "      <td>4</td>\n",
       "      <td>0.0</td>\n",
       "      <td>25128.0</td>\n",
       "      <td>3.0</td>\n",
       "      <td>0.0</td>\n",
       "      <td>1465000.0</td>\n",
       "      <td>5.0</td>\n",
       "      <td>33.0</td>\n",
       "      <td>64.0</td>\n",
       "      <td>2.0</td>\n",
       "      <td>3067.0</td>\n",
       "      <td>...</td>\n",
       "      <td>2.0</td>\n",
       "      <td>0.0</td>\n",
       "      <td>134.0</td>\n",
       "      <td>150.0</td>\n",
       "      <td>1900.0</td>\n",
       "      <td>31.0</td>\n",
       "      <td>-38.0</td>\n",
       "      <td>145.0</td>\n",
       "      <td>2.0</td>\n",
       "      <td>4019.0</td>\n",
       "    </tr>\n",
       "  </tbody>\n",
       "</table>\n",
       "<p>5 rows × 21 columns</p>\n",
       "</div>"
      ],
      "text/plain": [
       "   Suburb  Address  Rooms  Type      Price  Method  SellerG  Date  Distance  \\\n",
       "0     0.0  29458.0    2.0   0.0  1191267.0     6.0    155.0  58.0       2.0   \n",
       "1     0.0  32512.0    2.0   0.0  1480000.0     2.0     33.0  60.0       2.0   \n",
       "2     0.0  15389.0    2.0   0.0  1035000.0     2.0     33.0  63.0       2.0   \n",
       "3     0.0   9768.0    3.0   2.0  1112976.0     7.0    296.0  63.0       2.0   \n",
       "4     0.0  25128.0    3.0   0.0  1465000.0     5.0     33.0  64.0       2.0   \n",
       "\n",
       "   Postcode  ...  Bathroom  Car  Landsize  BuildingArea  YearBuilt  \\\n",
       "0    3067.0  ...       1.0  1.0     126.0          62.0     1922.0   \n",
       "1    3067.0  ...       1.0  1.0     202.0          87.0     1917.0   \n",
       "2    3067.0  ...       1.0  0.0     156.0          79.0     1900.0   \n",
       "3    3067.0  ...       2.0  1.0     156.0          70.0     1975.0   \n",
       "4    3067.0  ...       2.0  0.0     134.0         150.0     1900.0   \n",
       "\n",
       "   CouncilArea  Lattitude  Longtitude  Regionname  Propertycount  \n",
       "0         31.0      -38.0       145.0         2.0         4019.0  \n",
       "1         31.0      -38.0       145.0         2.0         4019.0  \n",
       "2         31.0      -38.0       145.0         2.0         4019.0  \n",
       "3         31.0      -38.0       145.0         2.0         4019.0  \n",
       "4         31.0      -38.0       145.0         2.0         4019.0  \n",
       "\n",
       "[5 rows x 21 columns]"
      ]
     },
     "execution_count": 40,
     "metadata": {},
     "output_type": "execute_result"
    }
   ],
   "source": [
    "df1.head()"
   ]
  },
  {
   "cell_type": "code",
   "execution_count": null,
   "metadata": {},
   "outputs": [],
   "source": []
  },
  {
   "cell_type": "code",
   "execution_count": 41,
   "metadata": {},
   "outputs": [
    {
     "data": {
      "text/plain": [
       "Suburb           0\n",
       "Address          0\n",
       "Rooms            0\n",
       "Type             0\n",
       "Price            0\n",
       "Method           0\n",
       "SellerG          0\n",
       "Date             0\n",
       "Distance         0\n",
       "Postcode         0\n",
       "Bedroom2         0\n",
       "Bathroom         0\n",
       "Car              0\n",
       "Landsize         0\n",
       "BuildingArea     0\n",
       "YearBuilt        0\n",
       "CouncilArea      0\n",
       "Lattitude        0\n",
       "Longtitude       0\n",
       "Regionname       0\n",
       "Propertycount    0\n",
       "dtype: int64"
      ]
     },
     "execution_count": 41,
     "metadata": {},
     "output_type": "execute_result"
    }
   ],
   "source": [
    "df1.isnull().sum()"
   ]
  },
  {
   "cell_type": "code",
   "execution_count": 42,
   "metadata": {},
   "outputs": [],
   "source": [
    "#!pip install autoimpute"
   ]
  },
  {
   "cell_type": "code",
   "execution_count": null,
   "metadata": {},
   "outputs": [],
   "source": []
  },
  {
   "cell_type": "code",
   "execution_count": null,
   "metadata": {},
   "outputs": [],
   "source": []
  },
  {
   "cell_type": "code",
   "execution_count": null,
   "metadata": {},
   "outputs": [],
   "source": []
  },
  {
   "cell_type": "code",
   "execution_count": null,
   "metadata": {},
   "outputs": [],
   "source": []
  },
  {
   "cell_type": "code",
   "execution_count": 43,
   "metadata": {},
   "outputs": [],
   "source": [
    "# #fitting missing values using autoimpute\n",
    "# from autoimpute.imputations import SingleImputer, MultipleImputer\n",
    "# si = SingleImputer() # imputation methods, passing through the data once\n",
    "# mi = MultipleImputer().fit_transform(df)\n"
   ]
  },
  {
   "cell_type": "code",
   "execution_count": 44,
   "metadata": {},
   "outputs": [],
   "source": [
    "# print(mi)"
   ]
  },
  {
   "cell_type": "code",
   "execution_count": 45,
   "metadata": {},
   "outputs": [
    {
     "data": {
      "text/plain": [
       "Suburb           0\n",
       "Address          0\n",
       "Rooms            0\n",
       "Type             0\n",
       "Price            0\n",
       "Method           0\n",
       "SellerG          0\n",
       "Date             0\n",
       "Distance         0\n",
       "Postcode         0\n",
       "Bedroom2         0\n",
       "Bathroom         0\n",
       "Car              0\n",
       "Landsize         0\n",
       "BuildingArea     0\n",
       "YearBuilt        0\n",
       "CouncilArea      0\n",
       "Lattitude        0\n",
       "Longtitude       0\n",
       "Regionname       0\n",
       "Propertycount    0\n",
       "dtype: int64"
      ]
     },
     "execution_count": 45,
     "metadata": {},
     "output_type": "execute_result"
    }
   ],
   "source": [
    "df1.isnull().sum()"
   ]
  },
  {
   "cell_type": "code",
   "execution_count": 46,
   "metadata": {},
   "outputs": [],
   "source": [
    "# !pip install scikit-learn --user --upgrade pip"
   ]
  },
  {
   "cell_type": "code",
   "execution_count": 47,
   "metadata": {},
   "outputs": [],
   "source": [
    "df1=pd.DataFrame(np.round(imp.transform(df1)))"
   ]
  },
  {
   "cell_type": "code",
   "execution_count": 48,
   "metadata": {},
   "outputs": [
    {
     "name": "stdout",
     "output_type": "stream",
     "text": [
      "<class 'pandas.core.frame.DataFrame'>\n",
      "RangeIndex: 34856 entries, 0 to 34855\n",
      "Data columns (total 21 columns):\n",
      "0     34856 non-null float64\n",
      "1     34856 non-null float64\n",
      "2     34856 non-null float64\n",
      "3     34856 non-null float64\n",
      "4     34856 non-null float64\n",
      "5     34856 non-null float64\n",
      "6     34856 non-null float64\n",
      "7     34856 non-null float64\n",
      "8     34856 non-null float64\n",
      "9     34856 non-null float64\n",
      "10    34856 non-null float64\n",
      "11    34856 non-null float64\n",
      "12    34856 non-null float64\n",
      "13    34856 non-null float64\n",
      "14    34856 non-null float64\n",
      "15    34856 non-null float64\n",
      "16    34856 non-null float64\n",
      "17    34856 non-null float64\n",
      "18    34856 non-null float64\n",
      "19    34856 non-null float64\n",
      "20    34856 non-null float64\n",
      "dtypes: float64(21)\n",
      "memory usage: 5.6 MB\n"
     ]
    }
   ],
   "source": [
    "df1.info()"
   ]
  },
  {
   "cell_type": "code",
   "execution_count": 49,
   "metadata": {},
   "outputs": [],
   "source": [
    "df1.columns=data.columns"
   ]
  },
  {
   "cell_type": "code",
   "execution_count": 50,
   "metadata": {},
   "outputs": [
    {
     "data": {
      "text/plain": [
       "Index(['Suburb', 'Address', 'Rooms', 'Type', 'Price', 'Method', 'SellerG',\n",
       "       'Date', 'Distance', 'Postcode', 'Bedroom2', 'Bathroom', 'Car',\n",
       "       'Landsize', 'BuildingArea', 'YearBuilt', 'CouncilArea', 'Lattitude',\n",
       "       'Longtitude', 'Regionname', 'Propertycount'],\n",
       "      dtype='object')"
      ]
     },
     "execution_count": 50,
     "metadata": {},
     "output_type": "execute_result"
    }
   ],
   "source": [
    "df1.columns"
   ]
  },
  {
   "cell_type": "code",
   "execution_count": 51,
   "metadata": {},
   "outputs": [
    {
     "name": "stdout",
     "output_type": "stream",
     "text": [
      "<class 'pandas.core.frame.DataFrame'>\n",
      "RangeIndex: 34856 entries, 0 to 34855\n",
      "Data columns (total 21 columns):\n",
      "Suburb           34856 non-null float64\n",
      "Address          34856 non-null float64\n",
      "Rooms            34856 non-null float64\n",
      "Type             34856 non-null float64\n",
      "Price            34856 non-null float64\n",
      "Method           34856 non-null float64\n",
      "SellerG          34856 non-null float64\n",
      "Date             34856 non-null float64\n",
      "Distance         34856 non-null float64\n",
      "Postcode         34856 non-null float64\n",
      "Bedroom2         34856 non-null float64\n",
      "Bathroom         34856 non-null float64\n",
      "Car              34856 non-null float64\n",
      "Landsize         34856 non-null float64\n",
      "BuildingArea     34856 non-null float64\n",
      "YearBuilt        34856 non-null float64\n",
      "CouncilArea      34856 non-null float64\n",
      "Lattitude        34856 non-null float64\n",
      "Longtitude       34856 non-null float64\n",
      "Regionname       34856 non-null float64\n",
      "Propertycount    34856 non-null float64\n",
      "dtypes: float64(21)\n",
      "memory usage: 5.6 MB\n"
     ]
    }
   ],
   "source": [
    "df1.info()"
   ]
  },
  {
   "cell_type": "code",
   "execution_count": 54,
   "metadata": {},
   "outputs": [
    {
     "data": {
      "text/plain": [
       "count    34856.000000\n",
       "mean     17002.917202\n",
       "std       9812.645660\n",
       "min          1.000000\n",
       "25%       8503.750000\n",
       "50%      16983.500000\n",
       "75%      25498.250000\n",
       "max      34008.000000\n",
       "Name: Address, dtype: float64"
      ]
     },
     "execution_count": 54,
     "metadata": {},
     "output_type": "execute_result"
    }
   ],
   "source": [
    "df1.Address.describe()"
   ]
  },
  {
   "cell_type": "code",
   "execution_count": 55,
   "metadata": {},
   "outputs": [
    {
     "data": {
      "text/plain": [
       "<matplotlib.axes._subplots.AxesSubplot at 0x7fb8505a3a58>"
      ]
     },
     "execution_count": 55,
     "metadata": {},
     "output_type": "execute_result"
    },
    {
     "data": {
      "image/png": "[encoded data removed]",
      "text/plain": [
       "<Figure size 432x288 with 1 Axes>"
      ]
     },
     "metadata": {
      "needs_background": "light"
     },
     "output_type": "display_data"
    }
   ],
   "source": [
    "import seaborn as sns\n",
    "sns.boxplot(df1['Address'])"
   ]
  },
  {
   "cell_type": "code",
   "execution_count": 56,
   "metadata": {},
   "outputs": [
    {
     "data": {
      "text/plain": [
       "<matplotlib.axes._subplots.AxesSubplot at 0x7fb850504cf8>"
      ]
     },
     "execution_count": 56,
     "metadata": {},
     "output_type": "execute_result"
    },
    {
     "data": {
      "image/png": "[encoded data removed]",
      "text/plain": [
       "<Figure size 432x288 with 1 Axes>"
      ]
     },
     "metadata": {
      "needs_background": "light"
     },
     "output_type": "display_data"
    }
   ],
   "source": [
    "\n",
    "sns.boxplot(df1['Suburb'])"
   ]
  },
  {
   "cell_type": "code",
   "execution_count": 57,
   "metadata": {},
   "outputs": [
    {
     "data": {
      "text/plain": [
       "<matplotlib.axes._subplots.AxesSubplot at 0x7fb85047b588>"
      ]
     },
     "execution_count": 57,
     "metadata": {},
     "output_type": "execute_result"
    },
    {
     "data": {
      "image/png": "[encoded data removed]",
      "text/plain": [
       "<Figure size 432x288 with 1 Axes>"
      ]
     },
     "metadata": {
      "needs_background": "light"
     },
     "output_type": "display_data"
    }
   ],
   "source": [
    "\n",
    "sns.boxplot(df1['Type'])"
   ]
  },
  {
   "cell_type": "code",
   "execution_count": 58,
   "metadata": {},
   "outputs": [
    {
     "data": {
      "text/plain": [
       "<matplotlib.axes._subplots.AxesSubplot at 0x7fb85050eb00>"
      ]
     },
     "execution_count": 58,
     "metadata": {},
     "output_type": "execute_result"
    },
    {
     "data": {
      "image/png": "[encoded data removed]",
      "text/plain": [
       "<Figure size 432x288 with 1 Axes>"
      ]
     },
     "metadata": {
      "needs_background": "light"
     },
     "output_type": "display_data"
    }
   ],
   "source": [
    "\n",
    "sns.boxplot(df1['SellerG'])"
   ]
  },
  {
   "cell_type": "code",
   "execution_count": 59,
   "metadata": {},
   "outputs": [
    {
     "data": {
      "text/plain": [
       "<matplotlib.axes._subplots.AxesSubplot at 0x7fb8503c1358>"
      ]
     },
     "execution_count": 59,
     "metadata": {},
     "output_type": "execute_result"
    },
    {
     "data": {
      "image/png": "[encoded data removed]",
      "text/plain": [
       "<Figure size 432x288 with 1 Axes>"
      ]
     },
     "metadata": {
      "needs_background": "light"
     },
     "output_type": "display_data"
    }
   ],
   "source": [
    "\n",
    "sns.boxplot(df1['Date'])"
   ]
  },
  {
   "cell_type": "code",
   "execution_count": 60,
   "metadata": {},
   "outputs": [
    {
     "data": {
      "text/plain": [
       "<matplotlib.axes._subplots.AxesSubplot at 0x7fb850455e48>"
      ]
     },
     "execution_count": 60,
     "metadata": {},
     "output_type": "execute_result"
    },
    {
     "data": {
      "image/png": "[encoded data removed]",
      "text/plain": [
       "<Figure size 432x288 with 1 Axes>"
      ]
     },
     "metadata": {
      "needs_background": "light"
     },
     "output_type": "display_data"
    }
   ],
   "source": [
    "\n",
    "sns.boxplot(df1['Distance'])"
   ]
  },
  {
   "cell_type": "code",
   "execution_count": 61,
   "metadata": {},
   "outputs": [],
   "source": [
    "Q1 = df1['Distance'].quantile(.25)\n",
    "Q3 = df1['Distance'].quantile(.75)\n",
    "IQR= Q3-Q1\n",
    "FLOOR = Q1 - 1.5 * IQR\n",
    "CAP = Q3 + 1.5 * IQR"
   ]
  },
  {
   "cell_type": "code",
   "execution_count": 62,
   "metadata": {},
   "outputs": [],
   "source": [
    "df2=df1[(df1['Distance'] >= FLOOR) &(df1['Distance'] <= CAP)]"
   ]
  },
  {
   "cell_type": "code",
   "execution_count": 63,
   "metadata": {},
   "outputs": [
    {
     "data": {
      "text/plain": [
       "<matplotlib.axes._subplots.AxesSubplot at 0x7fb850317e80>"
      ]
     },
     "execution_count": 63,
     "metadata": {},
     "output_type": "execute_result"
    },
    {
     "data": {
      "image/png": "[encoded data removed]",
      "text/plain": [
       "<Figure size 432x288 with 1 Axes>"
      ]
     },
     "metadata": {
      "needs_background": "light"
     },
     "output_type": "display_data"
    }
   ],
   "source": [
    "\n",
    "sns.boxplot(df2['Distance'])"
   ]
  },
  {
   "cell_type": "code",
   "execution_count": 64,
   "metadata": {},
   "outputs": [
    {
     "data": {
      "text/plain": [
       "<matplotlib.axes._subplots.AxesSubplot at 0x7fb85027bd30>"
      ]
     },
     "execution_count": 64,
     "metadata": {},
     "output_type": "execute_result"
    },
    {
     "data": {
      "image/png": "[encoded data removed]",
      "text/plain": [
       "<Figure size 432x288 with 1 Axes>"
      ]
     },
     "metadata": {
      "needs_background": "light"
     },
     "output_type": "display_data"
    }
   ],
   "source": [
    "\n",
    "sns.boxplot(df2['Postcode'])"
   ]
  },
  {
   "cell_type": "code",
   "execution_count": 65,
   "metadata": {},
   "outputs": [],
   "source": [
    "Q1 = df2['Postcode'].quantile(.25)\n",
    "Q3 = df2['Postcode'].quantile(.75)\n",
    "IQR= Q3-Q1\n",
    "FLOOR = Q1 - 1.5 * IQR\n",
    "CAP = Q3 + 1.5 * IQR\n",
    "df3=df1[(df1['Postcode'] >= FLOOR) &(df1['Postcode'] <= CAP)]"
   ]
  },
  {
   "cell_type": "code",
   "execution_count": 66,
   "metadata": {},
   "outputs": [
    {
     "data": {
      "text/plain": [
       "<matplotlib.axes._subplots.AxesSubplot at 0x7fb850260eb8>"
      ]
     },
     "execution_count": 66,
     "metadata": {},
     "output_type": "execute_result"
    },
    {
     "data": {
      "image/png": "[encoded data removed]",
      "text/plain": [
       "<Figure size 432x288 with 1 Axes>"
      ]
     },
     "metadata": {
      "needs_background": "light"
     },
     "output_type": "display_data"
    }
   ],
   "source": [
    "sns.boxplot(df3['Postcode'])"
   ]
  },
  {
   "cell_type": "code",
   "execution_count": 67,
   "metadata": {},
   "outputs": [
    {
     "data": {
      "text/plain": [
       "<matplotlib.axes._subplots.AxesSubplot at 0x7fb8501bd320>"
      ]
     },
     "execution_count": 67,
     "metadata": {},
     "output_type": "execute_result"
    },
    {
     "data": {
      "image/png": "[encoded data removed]",
      "text/plain": [
       "<Figure size 432x288 with 1 Axes>"
      ]
     },
     "metadata": {
      "needs_background": "light"
     },
     "output_type": "display_data"
    }
   ],
   "source": [
    "\n",
    "sns.boxplot(df2['Bedroom2'])"
   ]
  },
  {
   "cell_type": "code",
   "execution_count": 68,
   "metadata": {},
   "outputs": [],
   "source": [
    "Q1 = df2['Bedroom2'].quantile(.25)\n",
    "Q3 = df2['Bedroom2'].quantile(.75)\n",
    "IQR= Q3-Q1\n",
    "FLOOR = Q1 - 1.5 * IQR\n",
    "CAP = Q3 + 1.5 * IQR\n",
    "df3=df1[(df1['Bedroom2'] >= FLOOR) &(df1['Bedroom2'] <= CAP)]"
   ]
  },
  {
   "cell_type": "code",
   "execution_count": 69,
   "metadata": {},
   "outputs": [
    {
     "data": {
      "text/plain": [
       "<matplotlib.axes._subplots.AxesSubplot at 0x7fb8501a2a58>"
      ]
     },
     "execution_count": 69,
     "metadata": {},
     "output_type": "execute_result"
    },
    {
     "data": {
      "image/png": "[encoded data removed]",
      "text/plain": [
       "<Figure size 432x288 with 1 Axes>"
      ]
     },
     "metadata": {
      "needs_background": "light"
     },
     "output_type": "display_data"
    }
   ],
   "source": [
    "\n",
    "sns.boxplot(df3['Bedroom2'])"
   ]
  },
  {
   "cell_type": "code",
   "execution_count": 70,
   "metadata": {},
   "outputs": [
    {
     "data": {
      "text/plain": [
       "<matplotlib.axes._subplots.AxesSubplot at 0x7fb85010d828>"
      ]
     },
     "execution_count": 70,
     "metadata": {},
     "output_type": "execute_result"
    },
    {
     "data": {
      "image/png": "[encoded data removed]",
      "text/plain": [
       "<Figure size 432x288 with 1 Axes>"
      ]
     },
     "metadata": {
      "needs_background": "light"
     },
     "output_type": "display_data"
    }
   ],
   "source": [
    "\n",
    "sns.boxplot(df3['Bathroom'])"
   ]
  },
  {
   "cell_type": "code",
   "execution_count": 71,
   "metadata": {},
   "outputs": [],
   "source": [
    "Q1 = df3['Bathroom'].quantile(.25)\n",
    "Q3 = df3['Bathroom'].quantile(.75)\n",
    "IQR= Q3-Q1\n",
    "FLOOR = Q1 - 1.5 * IQR\n",
    "CAP = Q3 + 1.5 * IQR\n",
    "df4=df3[(df3['Bathroom'] >= FLOOR) &(df3['Bathroom'] <= CAP)]"
   ]
  },
  {
   "cell_type": "code",
   "execution_count": 72,
   "metadata": {},
   "outputs": [
    {
     "data": {
      "text/plain": [
       "<matplotlib.axes._subplots.AxesSubplot at 0x7fb8500f6c88>"
      ]
     },
     "execution_count": 72,
     "metadata": {},
     "output_type": "execute_result"
    },
    {
     "data": {
      "image/png": "[encoded data removed]",
      "text/plain": [
       "<Figure size 432x288 with 1 Axes>"
      ]
     },
     "metadata": {
      "needs_background": "light"
     },
     "output_type": "display_data"
    }
   ],
   "source": [
    "\n",
    "sns.boxplot(df4['Bathroom'])"
   ]
  },
  {
   "cell_type": "code",
   "execution_count": 73,
   "metadata": {},
   "outputs": [
    {
     "data": {
      "text/plain": [
       "<matplotlib.axes._subplots.AxesSubplot at 0x7fb8500597b8>"
      ]
     },
     "execution_count": 73,
     "metadata": {},
     "output_type": "execute_result"
    },
    {
     "data": {
      "image/png": "[encoded data removed]",
      "text/plain": [
       "<Figure size 432x288 with 1 Axes>"
      ]
     },
     "metadata": {
      "needs_background": "light"
     },
     "output_type": "display_data"
    }
   ],
   "source": [
    "\n",
    "sns.boxplot(df3['Car'])"
   ]
  },
  {
   "cell_type": "code",
   "execution_count": 74,
   "metadata": {},
   "outputs": [],
   "source": [
    "Q1 = df3['Car'].quantile(.25)\n",
    "Q3 = df3['Car'].quantile(.75)\n",
    "IQR= Q3-Q1\n",
    "FLOOR = Q1 - 1.5 * IQR\n",
    "CAP = Q3 + 1.5 * IQR\n",
    "df4=df3[(df3['Car'] >= FLOOR) &(df3['Car'] <= CAP)]"
   ]
  },
  {
   "cell_type": "code",
   "execution_count": 75,
   "metadata": {},
   "outputs": [
    {
     "data": {
      "text/plain": [
       "<matplotlib.axes._subplots.AxesSubplot at 0x7fb850036828>"
      ]
     },
     "execution_count": 75,
     "metadata": {},
     "output_type": "execute_result"
    },
    {
     "data": {
      "image/png": "[encoded data removed]",
      "text/plain": [
       "<Figure size 432x288 with 1 Axes>"
      ]
     },
     "metadata": {
      "needs_background": "light"
     },
     "output_type": "display_data"
    }
   ],
   "source": [
    "\n",
    "sns.boxplot(df4['Car'])"
   ]
  },
  {
   "cell_type": "code",
   "execution_count": 76,
   "metadata": {},
   "outputs": [
    {
     "data": {
      "text/plain": [
       "<matplotlib.axes._subplots.AxesSubplot at 0x7fb8304d5cc0>"
      ]
     },
     "execution_count": 76,
     "metadata": {},
     "output_type": "execute_result"
    },
    {
     "data": {
      "image/png": "[encoded data removed]",
      "text/plain": [
       "<Figure size 432x288 with 1 Axes>"
      ]
     },
     "metadata": {
      "needs_background": "light"
     },
     "output_type": "display_data"
    }
   ],
   "source": [
    "\n",
    "sns.boxplot(df4['Landsize'])"
   ]
  },
  {
   "cell_type": "code",
   "execution_count": 77,
   "metadata": {},
   "outputs": [],
   "source": [
    "Q1 = df3['Landsize'].quantile(.25)\n",
    "Q3 = df3['Landsize'].quantile(.75)\n",
    "IQR= Q3-Q1\n",
    "FLOOR = Q1 - 1.5 * IQR\n",
    "CAP = Q3 + 1.5 * IQR\n",
    "df4=df3[(df3['Landsize'] >= FLOOR) &(df3['Landsize'] <= CAP)]"
   ]
  },
  {
   "cell_type": "code",
   "execution_count": 78,
   "metadata": {},
   "outputs": [
    {
     "data": {
      "text/plain": [
       "<matplotlib.axes._subplots.AxesSubplot at 0x7fb8304af9e8>"
      ]
     },
     "execution_count": 78,
     "metadata": {},
     "output_type": "execute_result"
    },
    {
     "data": {
      "image/png": "[encoded data removed]",
      "text/plain": [
       "<Figure size 432x288 with 1 Axes>"
      ]
     },
     "metadata": {
      "needs_background": "light"
     },
     "output_type": "display_data"
    }
   ],
   "source": [
    "\n",
    "sns.boxplot(df4['Landsize'])"
   ]
  },
  {
   "cell_type": "code",
   "execution_count": 79,
   "metadata": {},
   "outputs": [
    {
     "data": {
      "text/plain": [
       "<matplotlib.axes._subplots.AxesSubplot at 0x7fb850036da0>"
      ]
     },
     "execution_count": 79,
     "metadata": {},
     "output_type": "execute_result"
    },
    {
     "data": {
      "image/png": "[encoded data removed]",
      "text/plain": [
       "<Figure size 432x288 with 1 Axes>"
      ]
     },
     "metadata": {
      "needs_background": "light"
     },
     "output_type": "display_data"
    }
   ],
   "source": [
    "\n",
    "sns.boxplot(df4['BuildingArea'])"
   ]
  },
  {
   "cell_type": "code",
   "execution_count": 80,
   "metadata": {},
   "outputs": [],
   "source": [
    "Q1 = df3['BuildingArea'].quantile(.25)\n",
    "Q3 = df3['BuildingArea'].quantile(.75)\n",
    "IQR= Q3-Q1\n",
    "FLOOR = Q1 - 1.5 * IQR\n",
    "CAP = Q3 + 1.5 * IQR\n",
    "df4=df3[(df3['BuildingArea'] >= FLOOR) &(df3['BuildingArea'] <= CAP)]"
   ]
  },
  {
   "cell_type": "code",
   "execution_count": 81,
   "metadata": {},
   "outputs": [
    {
     "data": {
      "text/plain": [
       "<matplotlib.axes._subplots.AxesSubplot at 0x7fb8304bc668>"
      ]
     },
     "execution_count": 81,
     "metadata": {},
     "output_type": "execute_result"
    },
    {
     "data": {
      "image/png": "[encoded data removed]",
      "text/plain": [
       "<Figure size 432x288 with 1 Axes>"
      ]
     },
     "metadata": {
      "needs_background": "light"
     },
     "output_type": "display_data"
    }
   ],
   "source": [
    "\n",
    "sns.boxplot(df4['BuildingArea'])"
   ]
  },
  {
   "cell_type": "code",
   "execution_count": 82,
   "metadata": {},
   "outputs": [
    {
     "data": {
      "text/plain": [
       "<matplotlib.axes._subplots.AxesSubplot at 0x7fb8303637f0>"
      ]
     },
     "execution_count": 82,
     "metadata": {},
     "output_type": "execute_result"
    },
    {
     "data": {
      "image/png": "[encoded data removed]",
      "text/plain": [
       "<Figure size 432x288 with 1 Axes>"
      ]
     },
     "metadata": {
      "needs_background": "light"
     },
     "output_type": "display_data"
    }
   ],
   "source": [
    "\n",
    "sns.boxplot(df4['YearBuilt'])"
   ]
  },
  {
   "cell_type": "code",
   "execution_count": 83,
   "metadata": {},
   "outputs": [],
   "source": [
    "Q1 = df3['YearBuilt'].quantile(.25)\n",
    "Q3 = df3['YearBuilt'].quantile(.75)\n",
    "IQR= Q3-Q1\n",
    "FLOOR = Q1 - 1.5 * IQR\n",
    "CAP = Q3 + 1.5 * IQR\n",
    "df4=df3[(df3['YearBuilt'] >= FLOOR) &(df3['YearBuilt'] <= CAP)]"
   ]
  },
  {
   "cell_type": "code",
   "execution_count": 84,
   "metadata": {},
   "outputs": [
    {
     "data": {
      "text/plain": [
       "<matplotlib.axes._subplots.AxesSubplot at 0x7fb8302bee48>"
      ]
     },
     "execution_count": 84,
     "metadata": {},
     "output_type": "execute_result"
    },
    {
     "data": {
      "image/png": "[encoded data removed]",
      "text/plain": [
       "<Figure size 432x288 with 1 Axes>"
      ]
     },
     "metadata": {
      "needs_background": "light"
     },
     "output_type": "display_data"
    }
   ],
   "source": [
    "\n",
    "sns.boxplot(df4['YearBuilt'])"
   ]
  },
  {
   "cell_type": "code",
   "execution_count": 85,
   "metadata": {},
   "outputs": [
    {
     "data": {
      "text/plain": [
       "<matplotlib.axes._subplots.AxesSubplot at 0x7fb8302a9ac8>"
      ]
     },
     "execution_count": 85,
     "metadata": {},
     "output_type": "execute_result"
    },
    {
     "data": {
      "image/png": "[encoded data removed]",
      "text/plain": [
       "<Figure size 432x288 with 1 Axes>"
      ]
     },
     "metadata": {
      "needs_background": "light"
     },
     "output_type": "display_data"
    }
   ],
   "source": [
    "\n",
    "sns.boxplot(df4['Lattitude'])"
   ]
  },
  {
   "cell_type": "code",
   "execution_count": 86,
   "metadata": {},
   "outputs": [],
   "source": [
    "Q1 = df3['Lattitude'].quantile(.25)\n",
    "Q3 = df3['Lattitude'].quantile(.75)\n",
    "IQR= Q3-Q1\n",
    "FLOOR = Q1 - 1.5 * IQR\n",
    "CAP = Q3 + 1.5 * IQR\n",
    "df4=df3[(df3['Lattitude'] >= FLOOR) &(df3['Lattitude'] <= CAP)]"
   ]
  },
  {
   "cell_type": "code",
   "execution_count": 87,
   "metadata": {},
   "outputs": [
    {
     "data": {
      "text/plain": [
       "<matplotlib.axes._subplots.AxesSubplot at 0x7fb83028f9e8>"
      ]
     },
     "execution_count": 87,
     "metadata": {},
     "output_type": "execute_result"
    },
    {
     "data": {
      "image/png": "[encoded data removed]",
      "text/plain": [
       "<Figure size 432x288 with 1 Axes>"
      ]
     },
     "metadata": {
      "needs_background": "light"
     },
     "output_type": "display_data"
    }
   ],
   "source": [
    "sns.boxplot(df4['Lattitude'])"
   ]
  },
  {
   "cell_type": "code",
   "execution_count": 88,
   "metadata": {},
   "outputs": [
    {
     "data": {
      "text/plain": [
       "<matplotlib.axes._subplots.AxesSubplot at 0x7fb8301751d0>"
      ]
     },
     "execution_count": 88,
     "metadata": {},
     "output_type": "execute_result"
    },
    {
     "data": {
      "image/png": "[encoded data removed]",
      "text/plain": [
       "<Figure size 432x288 with 1 Axes>"
      ]
     },
     "metadata": {
      "needs_background": "light"
     },
     "output_type": "display_data"
    }
   ],
   "source": [
    "\n",
    "sns.boxplot(df4['Longtitude'])"
   ]
  },
  {
   "cell_type": "code",
   "execution_count": 89,
   "metadata": {},
   "outputs": [],
   "source": [
    "Q1 = df3['Longtitude'].quantile(.25)\n",
    "Q3 = df3['Longtitude'].quantile(.75)\n",
    "IQR= Q3-Q1\n",
    "FLOOR = Q1 - 1.5 * IQR\n",
    "CAP = Q3 + 1.5 * IQR\n",
    "df4=df3[(df3['Longtitude'] >= FLOOR) &(df3['Longtitude'] <= CAP)]"
   ]
  },
  {
   "cell_type": "code",
   "execution_count": 90,
   "metadata": {},
   "outputs": [
    {
     "data": {
      "text/plain": [
       "<matplotlib.axes._subplots.AxesSubplot at 0x7fb830157b00>"
      ]
     },
     "execution_count": 90,
     "metadata": {},
     "output_type": "execute_result"
    },
    {
     "data": {
      "image/png": "[encoded data removed]",
      "text/plain": [
       "<Figure size 432x288 with 1 Axes>"
      ]
     },
     "metadata": {
      "needs_background": "light"
     },
     "output_type": "display_data"
    }
   ],
   "source": [
    "sns.boxplot(df4['Longtitude'])"
   ]
  },
  {
   "cell_type": "code",
   "execution_count": 91,
   "metadata": {},
   "outputs": [
    {
     "data": {
      "text/plain": [
       "<matplotlib.axes._subplots.AxesSubplot at 0x7fb8301dfe10>"
      ]
     },
     "execution_count": 91,
     "metadata": {},
     "output_type": "execute_result"
    },
    {
     "data": {
      "image/png": "[encoded data removed]",
      "text/plain": [
       "<Figure size 432x288 with 1 Axes>"
      ]
     },
     "metadata": {
      "needs_background": "light"
     },
     "output_type": "display_data"
    }
   ],
   "source": [
    "\n",
    "sns.boxplot(df4['Propertycount'])"
   ]
  },
  {
   "cell_type": "code",
   "execution_count": 92,
   "metadata": {},
   "outputs": [],
   "source": [
    "Q1 = df3['Propertycount'].quantile(.25)\n",
    "Q3 = df3['Propertycount'].quantile(.75)\n",
    "IQR= Q3-Q1\n",
    "FLOOR = Q1 - 1.5 * IQR\n",
    "CAP = Q3 + 1.5 * IQR\n",
    "df4=df3[(df3['Propertycount'] >= FLOOR) &(df3['Propertycount'] <= CAP)]"
   ]
  },
  {
   "cell_type": "code",
   "execution_count": 93,
   "metadata": {},
   "outputs": [
    {
     "data": {
      "text/plain": [
       "<matplotlib.axes._subplots.AxesSubplot at 0x7fb830098400>"
      ]
     },
     "execution_count": 93,
     "metadata": {},
     "output_type": "execute_result"
    },
    {
     "data": {
      "image/png": "[encoded data removed]",
      "text/plain": [
       "<Figure size 432x288 with 1 Axes>"
      ]
     },
     "metadata": {
      "needs_background": "light"
     },
     "output_type": "display_data"
    }
   ],
   "source": [
    "sns.boxplot(df4['Propertycount'])"
   ]
  },
  {
   "cell_type": "code",
   "execution_count": 94,
   "metadata": {},
   "outputs": [
    {
     "data": {
      "text/plain": [
       "-0.04005553729234998"
      ]
     },
     "execution_count": 94,
     "metadata": {},
     "output_type": "execute_result"
    }
   ],
   "source": [
    "df4['Price'].corr(df4['Lattitude'])"
   ]
  },
  {
   "cell_type": "code",
   "execution_count": 122,
   "metadata": {},
   "outputs": [
    {
     "data": {
      "text/plain": [
       " 650.0     226\n",
       " 697.0     147\n",
       " 585.0     111\n",
       " 700.0     104\n",
       " 604.0     101\n",
       "          ... \n",
       " 1857.0      1\n",
       "-737.0       1\n",
       "-195.0       1\n",
       "-458.0       1\n",
       " 1543.0      1\n",
       "Name: Landsize, Length: 2783, dtype: int64"
      ]
     },
     "execution_count": 122,
     "metadata": {},
     "output_type": "execute_result"
    }
   ],
   "source": [
    "df4['Landsize'].value_counts()"
   ]
  },
  {
   "cell_type": "code",
   "execution_count": 95,
   "metadata": {},
   "outputs": [
    {
     "data": {
      "text/html": [
       "<div>\n",
       "<style scoped>\n",
       "    .dataframe tbody tr th:only-of-type {\n",
       "        vertical-align: middle;\n",
       "    }\n",
       "\n",
       "    .dataframe tbody tr th {\n",
       "        vertical-align: top;\n",
       "    }\n",
       "\n",
       "    .dataframe thead th {\n",
       "        text-align: right;\n",
       "    }\n",
       "</style>\n",
       "<table border=\"1\" class=\"dataframe\">\n",
       "  <thead>\n",
       "    <tr style=\"text-align: right;\">\n",
       "      <th></th>\n",
       "      <th>Suburb</th>\n",
       "      <th>Address</th>\n",
       "      <th>Rooms</th>\n",
       "      <th>Type</th>\n",
       "      <th>Price</th>\n",
       "      <th>Method</th>\n",
       "      <th>SellerG</th>\n",
       "      <th>Date</th>\n",
       "      <th>Distance</th>\n",
       "      <th>Postcode</th>\n",
       "      <th>...</th>\n",
       "      <th>Bathroom</th>\n",
       "      <th>Car</th>\n",
       "      <th>Landsize</th>\n",
       "      <th>BuildingArea</th>\n",
       "      <th>YearBuilt</th>\n",
       "      <th>CouncilArea</th>\n",
       "      <th>Lattitude</th>\n",
       "      <th>Longtitude</th>\n",
       "      <th>Regionname</th>\n",
       "      <th>Propertycount</th>\n",
       "    </tr>\n",
       "  </thead>\n",
       "  <tbody>\n",
       "    <tr>\n",
       "      <th>0</th>\n",
       "      <td>0.0</td>\n",
       "      <td>29458.0</td>\n",
       "      <td>2.0</td>\n",
       "      <td>0.0</td>\n",
       "      <td>1191944.0</td>\n",
       "      <td>6.0</td>\n",
       "      <td>155.0</td>\n",
       "      <td>58.0</td>\n",
       "      <td>2.0</td>\n",
       "      <td>3067.0</td>\n",
       "      <td>...</td>\n",
       "      <td>1.0</td>\n",
       "      <td>1.0</td>\n",
       "      <td>126.0</td>\n",
       "      <td>66.0</td>\n",
       "      <td>1922.0</td>\n",
       "      <td>31.0</td>\n",
       "      <td>-38.0</td>\n",
       "      <td>145.0</td>\n",
       "      <td>2.0</td>\n",
       "      <td>4019.0</td>\n",
       "    </tr>\n",
       "    <tr>\n",
       "      <th>1</th>\n",
       "      <td>0.0</td>\n",
       "      <td>32512.0</td>\n",
       "      <td>2.0</td>\n",
       "      <td>0.0</td>\n",
       "      <td>1480000.0</td>\n",
       "      <td>2.0</td>\n",
       "      <td>33.0</td>\n",
       "      <td>60.0</td>\n",
       "      <td>2.0</td>\n",
       "      <td>3067.0</td>\n",
       "      <td>...</td>\n",
       "      <td>1.0</td>\n",
       "      <td>1.0</td>\n",
       "      <td>202.0</td>\n",
       "      <td>89.0</td>\n",
       "      <td>1917.0</td>\n",
       "      <td>31.0</td>\n",
       "      <td>-38.0</td>\n",
       "      <td>145.0</td>\n",
       "      <td>2.0</td>\n",
       "      <td>4019.0</td>\n",
       "    </tr>\n",
       "    <tr>\n",
       "      <th>2</th>\n",
       "      <td>0.0</td>\n",
       "      <td>15389.0</td>\n",
       "      <td>2.0</td>\n",
       "      <td>0.0</td>\n",
       "      <td>1035000.0</td>\n",
       "      <td>2.0</td>\n",
       "      <td>33.0</td>\n",
       "      <td>63.0</td>\n",
       "      <td>2.0</td>\n",
       "      <td>3067.0</td>\n",
       "      <td>...</td>\n",
       "      <td>1.0</td>\n",
       "      <td>0.0</td>\n",
       "      <td>156.0</td>\n",
       "      <td>79.0</td>\n",
       "      <td>1900.0</td>\n",
       "      <td>31.0</td>\n",
       "      <td>-38.0</td>\n",
       "      <td>145.0</td>\n",
       "      <td>2.0</td>\n",
       "      <td>4019.0</td>\n",
       "    </tr>\n",
       "    <tr>\n",
       "      <th>3</th>\n",
       "      <td>0.0</td>\n",
       "      <td>9768.0</td>\n",
       "      <td>3.0</td>\n",
       "      <td>2.0</td>\n",
       "      <td>1112031.0</td>\n",
       "      <td>7.0</td>\n",
       "      <td>296.0</td>\n",
       "      <td>63.0</td>\n",
       "      <td>2.0</td>\n",
       "      <td>3067.0</td>\n",
       "      <td>...</td>\n",
       "      <td>2.0</td>\n",
       "      <td>1.0</td>\n",
       "      <td>156.0</td>\n",
       "      <td>77.0</td>\n",
       "      <td>1976.0</td>\n",
       "      <td>31.0</td>\n",
       "      <td>-38.0</td>\n",
       "      <td>145.0</td>\n",
       "      <td>2.0</td>\n",
       "      <td>4019.0</td>\n",
       "    </tr>\n",
       "    <tr>\n",
       "      <th>4</th>\n",
       "      <td>0.0</td>\n",
       "      <td>25128.0</td>\n",
       "      <td>3.0</td>\n",
       "      <td>0.0</td>\n",
       "      <td>1465000.0</td>\n",
       "      <td>5.0</td>\n",
       "      <td>33.0</td>\n",
       "      <td>64.0</td>\n",
       "      <td>2.0</td>\n",
       "      <td>3067.0</td>\n",
       "      <td>...</td>\n",
       "      <td>2.0</td>\n",
       "      <td>0.0</td>\n",
       "      <td>134.0</td>\n",
       "      <td>150.0</td>\n",
       "      <td>1900.0</td>\n",
       "      <td>31.0</td>\n",
       "      <td>-38.0</td>\n",
       "      <td>145.0</td>\n",
       "      <td>2.0</td>\n",
       "      <td>4019.0</td>\n",
       "    </tr>\n",
       "  </tbody>\n",
       "</table>\n",
       "<p>5 rows × 21 columns</p>\n",
       "</div>"
      ],
      "text/plain": [
       "   Suburb  Address  Rooms  Type      Price  Method  SellerG  Date  Distance  \\\n",
       "0     0.0  29458.0    2.0   0.0  1191944.0     6.0    155.0  58.0       2.0   \n",
       "1     0.0  32512.0    2.0   0.0  1480000.0     2.0     33.0  60.0       2.0   \n",
       "2     0.0  15389.0    2.0   0.0  1035000.0     2.0     33.0  63.0       2.0   \n",
       "3     0.0   9768.0    3.0   2.0  1112031.0     7.0    296.0  63.0       2.0   \n",
       "4     0.0  25128.0    3.0   0.0  1465000.0     5.0     33.0  64.0       2.0   \n",
       "\n",
       "   Postcode  ...  Bathroom  Car  Landsize  BuildingArea  YearBuilt  \\\n",
       "0    3067.0  ...       1.0  1.0     126.0          66.0     1922.0   \n",
       "1    3067.0  ...       1.0  1.0     202.0          89.0     1917.0   \n",
       "2    3067.0  ...       1.0  0.0     156.0          79.0     1900.0   \n",
       "3    3067.0  ...       2.0  1.0     156.0          77.0     1976.0   \n",
       "4    3067.0  ...       2.0  0.0     134.0         150.0     1900.0   \n",
       "\n",
       "   CouncilArea  Lattitude  Longtitude  Regionname  Propertycount  \n",
       "0         31.0      -38.0       145.0         2.0         4019.0  \n",
       "1         31.0      -38.0       145.0         2.0         4019.0  \n",
       "2         31.0      -38.0       145.0         2.0         4019.0  \n",
       "3         31.0      -38.0       145.0         2.0         4019.0  \n",
       "4         31.0      -38.0       145.0         2.0         4019.0  \n",
       "\n",
       "[5 rows x 21 columns]"
      ]
     },
     "execution_count": 95,
     "metadata": {},
     "output_type": "execute_result"
    }
   ],
   "source": [
    "df4.head()"
   ]
  },
  {
   "cell_type": "code",
   "execution_count": 96,
   "metadata": {},
   "outputs": [
    {
     "data": {
      "text/plain": [
       "(33976, 21)"
      ]
     },
     "execution_count": 96,
     "metadata": {},
     "output_type": "execute_result"
    }
   ],
   "source": [
    "df4.shape"
   ]
  },
  {
   "cell_type": "code",
   "execution_count": 97,
   "metadata": {},
   "outputs": [
    {
     "data": {
      "text/html": [
       "<div>\n",
       "<style scoped>\n",
       "    .dataframe tbody tr th:only-of-type {\n",
       "        vertical-align: middle;\n",
       "    }\n",
       "\n",
       "    .dataframe tbody tr th {\n",
       "        vertical-align: top;\n",
       "    }\n",
       "\n",
       "    .dataframe thead th {\n",
       "        text-align: right;\n",
       "    }\n",
       "</style>\n",
       "<table border=\"1\" class=\"dataframe\">\n",
       "  <thead>\n",
       "    <tr style=\"text-align: right;\">\n",
       "      <th></th>\n",
       "      <th>Suburb</th>\n",
       "      <th>Address</th>\n",
       "      <th>Rooms</th>\n",
       "      <th>Type</th>\n",
       "      <th>Price</th>\n",
       "      <th>Method</th>\n",
       "      <th>SellerG</th>\n",
       "      <th>Date</th>\n",
       "      <th>Distance</th>\n",
       "      <th>Postcode</th>\n",
       "      <th>...</th>\n",
       "      <th>Bathroom</th>\n",
       "      <th>Car</th>\n",
       "      <th>Landsize</th>\n",
       "      <th>BuildingArea</th>\n",
       "      <th>YearBuilt</th>\n",
       "      <th>CouncilArea</th>\n",
       "      <th>Lattitude</th>\n",
       "      <th>Longtitude</th>\n",
       "      <th>Regionname</th>\n",
       "      <th>Propertycount</th>\n",
       "    </tr>\n",
       "  </thead>\n",
       "  <tbody>\n",
       "    <tr>\n",
       "      <th>Suburb</th>\n",
       "      <td>1.000000</td>\n",
       "      <td>0.018017</td>\n",
       "      <td>-0.059959</td>\n",
       "      <td>0.021536</td>\n",
       "      <td>-0.135206</td>\n",
       "      <td>0.004148</td>\n",
       "      <td>0.033456</td>\n",
       "      <td>-0.001581</td>\n",
       "      <td>-0.009064</td>\n",
       "      <td>-0.004941</td>\n",
       "      <td>...</td>\n",
       "      <td>-0.055044</td>\n",
       "      <td>-0.041846</td>\n",
       "      <td>0.009790</td>\n",
       "      <td>-0.009003</td>\n",
       "      <td>0.030982</td>\n",
       "      <td>0.132160</td>\n",
       "      <td>0.022954</td>\n",
       "      <td>0.015651</td>\n",
       "      <td>0.000033</td>\n",
       "      <td>0.088691</td>\n",
       "    </tr>\n",
       "    <tr>\n",
       "      <th>Address</th>\n",
       "      <td>0.018017</td>\n",
       "      <td>1.000000</td>\n",
       "      <td>0.023252</td>\n",
       "      <td>-0.069061</td>\n",
       "      <td>0.041065</td>\n",
       "      <td>0.006568</td>\n",
       "      <td>-0.000839</td>\n",
       "      <td>0.003129</td>\n",
       "      <td>-0.026143</td>\n",
       "      <td>-0.000702</td>\n",
       "      <td>...</td>\n",
       "      <td>0.003702</td>\n",
       "      <td>-0.006631</td>\n",
       "      <td>0.006197</td>\n",
       "      <td>0.017828</td>\n",
       "      <td>-0.046616</td>\n",
       "      <td>0.011331</td>\n",
       "      <td>-0.001376</td>\n",
       "      <td>-0.005159</td>\n",
       "      <td>0.007315</td>\n",
       "      <td>0.016729</td>\n",
       "    </tr>\n",
       "    <tr>\n",
       "      <th>Rooms</th>\n",
       "      <td>-0.059959</td>\n",
       "      <td>0.023252</td>\n",
       "      <td>1.000000</td>\n",
       "      <td>-0.560095</td>\n",
       "      <td>0.498709</td>\n",
       "      <td>-0.030721</td>\n",
       "      <td>-0.041652</td>\n",
       "      <td>-0.009458</td>\n",
       "      <td>0.278975</td>\n",
       "      <td>0.085045</td>\n",
       "      <td>...</td>\n",
       "      <td>0.643578</td>\n",
       "      <td>0.437964</td>\n",
       "      <td>0.004059</td>\n",
       "      <td>0.163298</td>\n",
       "      <td>0.001737</td>\n",
       "      <td>-0.129871</td>\n",
       "      <td>0.027264</td>\n",
       "      <td>-0.004865</td>\n",
       "      <td>-0.044075</td>\n",
       "      <td>-0.061091</td>\n",
       "    </tr>\n",
       "    <tr>\n",
       "      <th>Type</th>\n",
       "      <td>0.021536</td>\n",
       "      <td>-0.069061</td>\n",
       "      <td>-0.560095</td>\n",
       "      <td>1.000000</td>\n",
       "      <td>-0.396715</td>\n",
       "      <td>0.042926</td>\n",
       "      <td>0.031590</td>\n",
       "      <td>0.005372</td>\n",
       "      <td>-0.238846</td>\n",
       "      <td>-0.030177</td>\n",
       "      <td>...</td>\n",
       "      <td>-0.255857</td>\n",
       "      <td>-0.300485</td>\n",
       "      <td>0.033129</td>\n",
       "      <td>-0.100755</td>\n",
       "      <td>0.246416</td>\n",
       "      <td>0.072648</td>\n",
       "      <td>-0.023443</td>\n",
       "      <td>0.005208</td>\n",
       "      <td>0.061023</td>\n",
       "      <td>0.080890</td>\n",
       "    </tr>\n",
       "    <tr>\n",
       "      <th>Price</th>\n",
       "      <td>-0.135206</td>\n",
       "      <td>0.041065</td>\n",
       "      <td>0.498709</td>\n",
       "      <td>-0.396715</td>\n",
       "      <td>1.000000</td>\n",
       "      <td>-0.005825</td>\n",
       "      <td>-0.038108</td>\n",
       "      <td>-0.010410</td>\n",
       "      <td>-0.226583</td>\n",
       "      <td>0.047705</td>\n",
       "      <td>...</td>\n",
       "      <td>0.501600</td>\n",
       "      <td>0.245778</td>\n",
       "      <td>0.005588</td>\n",
       "      <td>0.132798</td>\n",
       "      <td>-0.314248</td>\n",
       "      <td>-0.132165</td>\n",
       "      <td>-0.040056</td>\n",
       "      <td>0.009368</td>\n",
       "      <td>0.081598</td>\n",
       "      <td>-0.012035</td>\n",
       "    </tr>\n",
       "    <tr>\n",
       "      <th>Method</th>\n",
       "      <td>0.004148</td>\n",
       "      <td>0.006568</td>\n",
       "      <td>-0.030721</td>\n",
       "      <td>0.042926</td>\n",
       "      <td>-0.005825</td>\n",
       "      <td>1.000000</td>\n",
       "      <td>0.001745</td>\n",
       "      <td>0.000561</td>\n",
       "      <td>-0.041884</td>\n",
       "      <td>-0.011115</td>\n",
       "      <td>...</td>\n",
       "      <td>-0.003814</td>\n",
       "      <td>-0.018476</td>\n",
       "      <td>0.016627</td>\n",
       "      <td>0.001932</td>\n",
       "      <td>-0.002439</td>\n",
       "      <td>-0.000811</td>\n",
       "      <td>0.013214</td>\n",
       "      <td>-0.000329</td>\n",
       "      <td>0.015164</td>\n",
       "      <td>-0.020719</td>\n",
       "    </tr>\n",
       "    <tr>\n",
       "      <th>SellerG</th>\n",
       "      <td>0.033456</td>\n",
       "      <td>-0.000839</td>\n",
       "      <td>-0.041652</td>\n",
       "      <td>0.031590</td>\n",
       "      <td>-0.038108</td>\n",
       "      <td>0.001745</td>\n",
       "      <td>1.000000</td>\n",
       "      <td>0.000461</td>\n",
       "      <td>-0.026818</td>\n",
       "      <td>-0.004850</td>\n",
       "      <td>...</td>\n",
       "      <td>-0.037060</td>\n",
       "      <td>-0.000648</td>\n",
       "      <td>0.005774</td>\n",
       "      <td>-0.003532</td>\n",
       "      <td>-0.011601</td>\n",
       "      <td>0.043401</td>\n",
       "      <td>0.005198</td>\n",
       "      <td>-0.001995</td>\n",
       "      <td>0.028953</td>\n",
       "      <td>0.041624</td>\n",
       "    </tr>\n",
       "    <tr>\n",
       "      <th>Date</th>\n",
       "      <td>-0.001581</td>\n",
       "      <td>0.003129</td>\n",
       "      <td>-0.009458</td>\n",
       "      <td>0.005372</td>\n",
       "      <td>-0.010410</td>\n",
       "      <td>0.000561</td>\n",
       "      <td>0.000461</td>\n",
       "      <td>1.000000</td>\n",
       "      <td>0.001374</td>\n",
       "      <td>0.001590</td>\n",
       "      <td>...</td>\n",
       "      <td>-0.014072</td>\n",
       "      <td>-0.000762</td>\n",
       "      <td>-0.007254</td>\n",
       "      <td>-0.015084</td>\n",
       "      <td>-0.010716</td>\n",
       "      <td>0.005525</td>\n",
       "      <td>-0.007650</td>\n",
       "      <td>-0.004134</td>\n",
       "      <td>0.002078</td>\n",
       "      <td>0.001828</td>\n",
       "    </tr>\n",
       "    <tr>\n",
       "      <th>Distance</th>\n",
       "      <td>-0.009064</td>\n",
       "      <td>-0.026143</td>\n",
       "      <td>0.278975</td>\n",
       "      <td>-0.238846</td>\n",
       "      <td>-0.226583</td>\n",
       "      <td>-0.041884</td>\n",
       "      <td>-0.026818</td>\n",
       "      <td>0.001374</td>\n",
       "      <td>1.000000</td>\n",
       "      <td>0.481827</td>\n",
       "      <td>...</td>\n",
       "      <td>0.142797</td>\n",
       "      <td>0.279395</td>\n",
       "      <td>0.049440</td>\n",
       "      <td>0.082249</td>\n",
       "      <td>0.296985</td>\n",
       "      <td>-0.123937</td>\n",
       "      <td>0.183617</td>\n",
       "      <td>-0.030159</td>\n",
       "      <td>-0.134472</td>\n",
       "      <td>-0.022490</td>\n",
       "    </tr>\n",
       "    <tr>\n",
       "      <th>Postcode</th>\n",
       "      <td>-0.004941</td>\n",
       "      <td>-0.000702</td>\n",
       "      <td>0.085045</td>\n",
       "      <td>-0.030177</td>\n",
       "      <td>0.047705</td>\n",
       "      <td>-0.011115</td>\n",
       "      <td>-0.004850</td>\n",
       "      <td>0.001590</td>\n",
       "      <td>0.481827</td>\n",
       "      <td>1.000000</td>\n",
       "      <td>...</td>\n",
       "      <td>0.126417</td>\n",
       "      <td>0.076577</td>\n",
       "      <td>0.043829</td>\n",
       "      <td>0.049371</td>\n",
       "      <td>0.097746</td>\n",
       "      <td>0.005759</td>\n",
       "      <td>0.148448</td>\n",
       "      <td>0.000528</td>\n",
       "      <td>-0.040198</td>\n",
       "      <td>0.056215</td>\n",
       "    </tr>\n",
       "    <tr>\n",
       "      <th>Bedroom2</th>\n",
       "      <td>-0.059407</td>\n",
       "      <td>0.020500</td>\n",
       "      <td>0.976364</td>\n",
       "      <td>-0.553061</td>\n",
       "      <td>0.488791</td>\n",
       "      <td>-0.029736</td>\n",
       "      <td>-0.042716</td>\n",
       "      <td>-0.011796</td>\n",
       "      <td>0.285370</td>\n",
       "      <td>0.087872</td>\n",
       "      <td>...</td>\n",
       "      <td>0.641103</td>\n",
       "      <td>0.439716</td>\n",
       "      <td>0.004758</td>\n",
       "      <td>0.161673</td>\n",
       "      <td>0.008427</td>\n",
       "      <td>-0.127918</td>\n",
       "      <td>0.027901</td>\n",
       "      <td>-0.005003</td>\n",
       "      <td>-0.049210</td>\n",
       "      <td>-0.059893</td>\n",
       "    </tr>\n",
       "    <tr>\n",
       "      <th>Bathroom</th>\n",
       "      <td>-0.055044</td>\n",
       "      <td>0.003702</td>\n",
       "      <td>0.643578</td>\n",
       "      <td>-0.255857</td>\n",
       "      <td>0.501600</td>\n",
       "      <td>-0.003814</td>\n",
       "      <td>-0.037060</td>\n",
       "      <td>-0.014072</td>\n",
       "      <td>0.142797</td>\n",
       "      <td>0.126417</td>\n",
       "      <td>...</td>\n",
       "      <td>1.000000</td>\n",
       "      <td>0.346186</td>\n",
       "      <td>0.023620</td>\n",
       "      <td>0.154657</td>\n",
       "      <td>0.137515</td>\n",
       "      <td>-0.079489</td>\n",
       "      <td>0.021398</td>\n",
       "      <td>-0.002358</td>\n",
       "      <td>0.003064</td>\n",
       "      <td>-0.013830</td>\n",
       "    </tr>\n",
       "    <tr>\n",
       "      <th>Car</th>\n",
       "      <td>-0.041846</td>\n",
       "      <td>-0.006631</td>\n",
       "      <td>0.437964</td>\n",
       "      <td>-0.300485</td>\n",
       "      <td>0.245778</td>\n",
       "      <td>-0.018476</td>\n",
       "      <td>-0.000648</td>\n",
       "      <td>-0.000762</td>\n",
       "      <td>0.279395</td>\n",
       "      <td>0.076577</td>\n",
       "      <td>...</td>\n",
       "      <td>0.346186</td>\n",
       "      <td>1.000000</td>\n",
       "      <td>0.024796</td>\n",
       "      <td>0.105397</td>\n",
       "      <td>0.114490</td>\n",
       "      <td>-0.144865</td>\n",
       "      <td>0.036930</td>\n",
       "      <td>-0.015287</td>\n",
       "      <td>0.013901</td>\n",
       "      <td>-0.035582</td>\n",
       "    </tr>\n",
       "    <tr>\n",
       "      <th>Landsize</th>\n",
       "      <td>0.009790</td>\n",
       "      <td>0.006197</td>\n",
       "      <td>0.004059</td>\n",
       "      <td>0.033129</td>\n",
       "      <td>0.005588</td>\n",
       "      <td>0.016627</td>\n",
       "      <td>0.005774</td>\n",
       "      <td>-0.007254</td>\n",
       "      <td>0.049440</td>\n",
       "      <td>0.043829</td>\n",
       "      <td>...</td>\n",
       "      <td>0.023620</td>\n",
       "      <td>0.024796</td>\n",
       "      <td>1.000000</td>\n",
       "      <td>0.715263</td>\n",
       "      <td>0.390840</td>\n",
       "      <td>0.012325</td>\n",
       "      <td>0.098578</td>\n",
       "      <td>-0.022302</td>\n",
       "      <td>-0.010897</td>\n",
       "      <td>-0.010458</td>\n",
       "    </tr>\n",
       "    <tr>\n",
       "      <th>BuildingArea</th>\n",
       "      <td>-0.009003</td>\n",
       "      <td>0.017828</td>\n",
       "      <td>0.163298</td>\n",
       "      <td>-0.100755</td>\n",
       "      <td>0.132798</td>\n",
       "      <td>0.001932</td>\n",
       "      <td>-0.003532</td>\n",
       "      <td>-0.015084</td>\n",
       "      <td>0.082249</td>\n",
       "      <td>0.049371</td>\n",
       "      <td>...</td>\n",
       "      <td>0.154657</td>\n",
       "      <td>0.105397</td>\n",
       "      <td>0.715263</td>\n",
       "      <td>1.000000</td>\n",
       "      <td>0.703509</td>\n",
       "      <td>-0.019241</td>\n",
       "      <td>0.140441</td>\n",
       "      <td>-0.016189</td>\n",
       "      <td>-0.008645</td>\n",
       "      <td>-0.027283</td>\n",
       "    </tr>\n",
       "    <tr>\n",
       "      <th>YearBuilt</th>\n",
       "      <td>0.030982</td>\n",
       "      <td>-0.046616</td>\n",
       "      <td>0.001737</td>\n",
       "      <td>0.246416</td>\n",
       "      <td>-0.314248</td>\n",
       "      <td>-0.002439</td>\n",
       "      <td>-0.011601</td>\n",
       "      <td>-0.010716</td>\n",
       "      <td>0.296985</td>\n",
       "      <td>0.097746</td>\n",
       "      <td>...</td>\n",
       "      <td>0.137515</td>\n",
       "      <td>0.114490</td>\n",
       "      <td>0.390840</td>\n",
       "      <td>0.703509</td>\n",
       "      <td>1.000000</td>\n",
       "      <td>-0.020646</td>\n",
       "      <td>0.143106</td>\n",
       "      <td>-0.014848</td>\n",
       "      <td>-0.037744</td>\n",
       "      <td>-0.009745</td>\n",
       "    </tr>\n",
       "    <tr>\n",
       "      <th>CouncilArea</th>\n",
       "      <td>0.132160</td>\n",
       "      <td>0.011331</td>\n",
       "      <td>-0.129871</td>\n",
       "      <td>0.072648</td>\n",
       "      <td>-0.132165</td>\n",
       "      <td>-0.000811</td>\n",
       "      <td>0.043401</td>\n",
       "      <td>0.005525</td>\n",
       "      <td>-0.123937</td>\n",
       "      <td>0.005759</td>\n",
       "      <td>...</td>\n",
       "      <td>-0.079489</td>\n",
       "      <td>-0.144865</td>\n",
       "      <td>0.012325</td>\n",
       "      <td>-0.019241</td>\n",
       "      <td>-0.020646</td>\n",
       "      <td>1.000000</td>\n",
       "      <td>0.009161</td>\n",
       "      <td>-0.004699</td>\n",
       "      <td>-0.094018</td>\n",
       "      <td>0.095169</td>\n",
       "    </tr>\n",
       "    <tr>\n",
       "      <th>Lattitude</th>\n",
       "      <td>0.022954</td>\n",
       "      <td>-0.001376</td>\n",
       "      <td>0.027264</td>\n",
       "      <td>-0.023443</td>\n",
       "      <td>-0.040056</td>\n",
       "      <td>0.013214</td>\n",
       "      <td>0.005198</td>\n",
       "      <td>-0.007650</td>\n",
       "      <td>0.183617</td>\n",
       "      <td>0.148448</td>\n",
       "      <td>...</td>\n",
       "      <td>0.021398</td>\n",
       "      <td>0.036930</td>\n",
       "      <td>0.098578</td>\n",
       "      <td>0.140441</td>\n",
       "      <td>0.143106</td>\n",
       "      <td>0.009161</td>\n",
       "      <td>1.000000</td>\n",
       "      <td>-0.044186</td>\n",
       "      <td>-0.012620</td>\n",
       "      <td>-0.041787</td>\n",
       "    </tr>\n",
       "    <tr>\n",
       "      <th>Longtitude</th>\n",
       "      <td>0.015651</td>\n",
       "      <td>-0.005159</td>\n",
       "      <td>-0.004865</td>\n",
       "      <td>0.005208</td>\n",
       "      <td>0.009368</td>\n",
       "      <td>-0.000329</td>\n",
       "      <td>-0.001995</td>\n",
       "      <td>-0.004134</td>\n",
       "      <td>-0.030159</td>\n",
       "      <td>0.000528</td>\n",
       "      <td>...</td>\n",
       "      <td>-0.002358</td>\n",
       "      <td>-0.015287</td>\n",
       "      <td>-0.022302</td>\n",
       "      <td>-0.016189</td>\n",
       "      <td>-0.014848</td>\n",
       "      <td>-0.004699</td>\n",
       "      <td>-0.044186</td>\n",
       "      <td>1.000000</td>\n",
       "      <td>-0.017849</td>\n",
       "      <td>0.018931</td>\n",
       "    </tr>\n",
       "    <tr>\n",
       "      <th>Regionname</th>\n",
       "      <td>0.000033</td>\n",
       "      <td>0.007315</td>\n",
       "      <td>-0.044075</td>\n",
       "      <td>0.061023</td>\n",
       "      <td>0.081598</td>\n",
       "      <td>0.015164</td>\n",
       "      <td>0.028953</td>\n",
       "      <td>0.002078</td>\n",
       "      <td>-0.134472</td>\n",
       "      <td>-0.040198</td>\n",
       "      <td>...</td>\n",
       "      <td>0.003064</td>\n",
       "      <td>0.013901</td>\n",
       "      <td>-0.010897</td>\n",
       "      <td>-0.008645</td>\n",
       "      <td>-0.037744</td>\n",
       "      <td>-0.094018</td>\n",
       "      <td>-0.012620</td>\n",
       "      <td>-0.017849</td>\n",
       "      <td>1.000000</td>\n",
       "      <td>-0.058698</td>\n",
       "    </tr>\n",
       "    <tr>\n",
       "      <th>Propertycount</th>\n",
       "      <td>0.088691</td>\n",
       "      <td>0.016729</td>\n",
       "      <td>-0.061091</td>\n",
       "      <td>0.080890</td>\n",
       "      <td>-0.012035</td>\n",
       "      <td>-0.020719</td>\n",
       "      <td>0.041624</td>\n",
       "      <td>0.001828</td>\n",
       "      <td>-0.022490</td>\n",
       "      <td>0.056215</td>\n",
       "      <td>...</td>\n",
       "      <td>-0.013830</td>\n",
       "      <td>-0.035582</td>\n",
       "      <td>-0.010458</td>\n",
       "      <td>-0.027283</td>\n",
       "      <td>-0.009745</td>\n",
       "      <td>0.095169</td>\n",
       "      <td>-0.041787</td>\n",
       "      <td>0.018931</td>\n",
       "      <td>-0.058698</td>\n",
       "      <td>1.000000</td>\n",
       "    </tr>\n",
       "  </tbody>\n",
       "</table>\n",
       "<p>21 rows × 21 columns</p>\n",
       "</div>"
      ],
      "text/plain": [
       "                 Suburb   Address     Rooms      Type     Price    Method  \\\n",
       "Suburb         1.000000  0.018017 -0.059959  0.021536 -0.135206  0.004148   \n",
       "Address        0.018017  1.000000  0.023252 -0.069061  0.041065  0.006568   \n",
       "Rooms         -0.059959  0.023252  1.000000 -0.560095  0.498709 -0.030721   \n",
       "Type           0.021536 -0.069061 -0.560095  1.000000 -0.396715  0.042926   \n",
       "Price         -0.135206  0.041065  0.498709 -0.396715  1.000000 -0.005825   \n",
       "Method         0.004148  0.006568 -0.030721  0.042926 -0.005825  1.000000   \n",
       "SellerG        0.033456 -0.000839 -0.041652  0.031590 -0.038108  0.001745   \n",
       "Date          -0.001581  0.003129 -0.009458  0.005372 -0.010410  0.000561   \n",
       "Distance      -0.009064 -0.026143  0.278975 -0.238846 -0.226583 -0.041884   \n",
       "Postcode      -0.004941 -0.000702  0.085045 -0.030177  0.047705 -0.011115   \n",
       "Bedroom2      -0.059407  0.020500  0.976364 -0.553061  0.488791 -0.029736   \n",
       "Bathroom      -0.055044  0.003702  0.643578 -0.255857  0.501600 -0.003814   \n",
       "Car           -0.041846 -0.006631  0.437964 -0.300485  0.245778 -0.018476   \n",
       "Landsize       0.009790  0.006197  0.004059  0.033129  0.005588  0.016627   \n",
       "BuildingArea  -0.009003  0.017828  0.163298 -0.100755  0.132798  0.001932   \n",
       "YearBuilt      0.030982 -0.046616  0.001737  0.246416 -0.314248 -0.002439   \n",
       "CouncilArea    0.132160  0.011331 -0.129871  0.072648 -0.132165 -0.000811   \n",
       "Lattitude      0.022954 -0.001376  0.027264 -0.023443 -0.040056  0.013214   \n",
       "Longtitude     0.015651 -0.005159 -0.004865  0.005208  0.009368 -0.000329   \n",
       "Regionname     0.000033  0.007315 -0.044075  0.061023  0.081598  0.015164   \n",
       "Propertycount  0.088691  0.016729 -0.061091  0.080890 -0.012035 -0.020719   \n",
       "\n",
       "                SellerG      Date  Distance  Postcode  ...  Bathroom  \\\n",
       "Suburb         0.033456 -0.001581 -0.009064 -0.004941  ... -0.055044   \n",
       "Address       -0.000839  0.003129 -0.026143 -0.000702  ...  0.003702   \n",
       "Rooms         -0.041652 -0.009458  0.278975  0.085045  ...  0.643578   \n",
       "Type           0.031590  0.005372 -0.238846 -0.030177  ... -0.255857   \n",
       "Price         -0.038108 -0.010410 -0.226583  0.047705  ...  0.501600   \n",
       "Method         0.001745  0.000561 -0.041884 -0.011115  ... -0.003814   \n",
       "SellerG        1.000000  0.000461 -0.026818 -0.004850  ... -0.037060   \n",
       "Date           0.000461  1.000000  0.001374  0.001590  ... -0.014072   \n",
       "Distance      -0.026818  0.001374  1.000000  0.481827  ...  0.142797   \n",
       "Postcode      -0.004850  0.001590  0.481827  1.000000  ...  0.126417   \n",
       "Bedroom2      -0.042716 -0.011796  0.285370  0.087872  ...  0.641103   \n",
       "Bathroom      -0.037060 -0.014072  0.142797  0.126417  ...  1.000000   \n",
       "Car           -0.000648 -0.000762  0.279395  0.076577  ...  0.346186   \n",
       "Landsize       0.005774 -0.007254  0.049440  0.043829  ...  0.023620   \n",
       "BuildingArea  -0.003532 -0.015084  0.082249  0.049371  ...  0.154657   \n",
       "YearBuilt     -0.011601 -0.010716  0.296985  0.097746  ...  0.137515   \n",
       "CouncilArea    0.043401  0.005525 -0.123937  0.005759  ... -0.079489   \n",
       "Lattitude      0.005198 -0.007650  0.183617  0.148448  ...  0.021398   \n",
       "Longtitude    -0.001995 -0.004134 -0.030159  0.000528  ... -0.002358   \n",
       "Regionname     0.028953  0.002078 -0.134472 -0.040198  ...  0.003064   \n",
       "Propertycount  0.041624  0.001828 -0.022490  0.056215  ... -0.013830   \n",
       "\n",
       "                    Car  Landsize  BuildingArea  YearBuilt  CouncilArea  \\\n",
       "Suburb        -0.041846  0.009790     -0.009003   0.030982     0.132160   \n",
       "Address       -0.006631  0.006197      0.017828  -0.046616     0.011331   \n",
       "Rooms          0.437964  0.004059      0.163298   0.001737    -0.129871   \n",
       "Type          -0.300485  0.033129     -0.100755   0.246416     0.072648   \n",
       "Price          0.245778  0.005588      0.132798  -0.314248    -0.132165   \n",
       "Method        -0.018476  0.016627      0.001932  -0.002439    -0.000811   \n",
       "SellerG       -0.000648  0.005774     -0.003532  -0.011601     0.043401   \n",
       "Date          -0.000762 -0.007254     -0.015084  -0.010716     0.005525   \n",
       "Distance       0.279395  0.049440      0.082249   0.296985    -0.123937   \n",
       "Postcode       0.076577  0.043829      0.049371   0.097746     0.005759   \n",
       "Bedroom2       0.439716  0.004758      0.161673   0.008427    -0.127918   \n",
       "Bathroom       0.346186  0.023620      0.154657   0.137515    -0.079489   \n",
       "Car            1.000000  0.024796      0.105397   0.114490    -0.144865   \n",
       "Landsize       0.024796  1.000000      0.715263   0.390840     0.012325   \n",
       "BuildingArea   0.105397  0.715263      1.000000   0.703509    -0.019241   \n",
       "YearBuilt      0.114490  0.390840      0.703509   1.000000    -0.020646   \n",
       "CouncilArea   -0.144865  0.012325     -0.019241  -0.020646     1.000000   \n",
       "Lattitude      0.036930  0.098578      0.140441   0.143106     0.009161   \n",
       "Longtitude    -0.015287 -0.022302     -0.016189  -0.014848    -0.004699   \n",
       "Regionname     0.013901 -0.010897     -0.008645  -0.037744    -0.094018   \n",
       "Propertycount -0.035582 -0.010458     -0.027283  -0.009745     0.095169   \n",
       "\n",
       "               Lattitude  Longtitude  Regionname  Propertycount  \n",
       "Suburb          0.022954    0.015651    0.000033       0.088691  \n",
       "Address        -0.001376   -0.005159    0.007315       0.016729  \n",
       "Rooms           0.027264   -0.004865   -0.044075      -0.061091  \n",
       "Type           -0.023443    0.005208    0.061023       0.080890  \n",
       "Price          -0.040056    0.009368    0.081598      -0.012035  \n",
       "Method          0.013214   -0.000329    0.015164      -0.020719  \n",
       "SellerG         0.005198   -0.001995    0.028953       0.041624  \n",
       "Date           -0.007650   -0.004134    0.002078       0.001828  \n",
       "Distance        0.183617   -0.030159   -0.134472      -0.022490  \n",
       "Postcode        0.148448    0.000528   -0.040198       0.056215  \n",
       "Bedroom2        0.027901   -0.005003   -0.049210      -0.059893  \n",
       "Bathroom        0.021398   -0.002358    0.003064      -0.013830  \n",
       "Car             0.036930   -0.015287    0.013901      -0.035582  \n",
       "Landsize        0.098578   -0.022302   -0.010897      -0.010458  \n",
       "BuildingArea    0.140441   -0.016189   -0.008645      -0.027283  \n",
       "YearBuilt       0.143106   -0.014848   -0.037744      -0.009745  \n",
       "CouncilArea     0.009161   -0.004699   -0.094018       0.095169  \n",
       "Lattitude       1.000000   -0.044186   -0.012620      -0.041787  \n",
       "Longtitude     -0.044186    1.000000   -0.017849       0.018931  \n",
       "Regionname     -0.012620   -0.017849    1.000000      -0.058698  \n",
       "Propertycount  -0.041787    0.018931   -0.058698       1.000000  \n",
       "\n",
       "[21 rows x 21 columns]"
      ]
     },
     "execution_count": 97,
     "metadata": {},
     "output_type": "execute_result"
    }
   ],
   "source": [
    "df4.corr()"
   ]
  },
  {
   "cell_type": "code",
   "execution_count": 98,
   "metadata": {},
   "outputs": [],
   "source": [
    "X=df4"
   ]
  },
  {
   "cell_type": "code",
   "execution_count": 99,
   "metadata": {},
   "outputs": [],
   "source": [
    "df5=df4.drop('Price',axis=1)\n",
    "df5.head()\n",
    "df6=df4['Price']\n",
    "X=df5\n",
    "y=df6"
   ]
  },
  {
   "cell_type": "code",
   "execution_count": 100,
   "metadata": {},
   "outputs": [
    {
     "name": "stdout",
     "output_type": "stream",
     "text": [
      "WARNING: pip is being invoked by an old script wrapper. This will fail in a future version of pip.\n",
      "Please see https://github.com/pypa/pip/issues/5599 for advice on fixing the underlying issue.\n",
      "To avoid this problem you can invoke Python with '-m pip' instead of running pip directly.\n",
      "Collecting statsmodels\n",
      "  Downloading statsmodels-0.11.0-cp36-cp36m-manylinux1_x86_64.whl (8.7 MB)\n",
      "\u001b[K     |████████████████████████████████| 8.7 MB 3.5 MB/s eta 0:00:01\n",
      "\u001b[?25hRequirement already satisfied: scipy>=1.0 in /srv/conda/envs/notebook/lib/python3.6/site-packages (from statsmodels) (1.4.1)\n",
      "Requirement already satisfied: numpy>=1.14 in /srv/conda/envs/notebook/lib/python3.6/site-packages (from statsmodels) (1.18.1)\n",
      "Collecting patsy>=0.5\n",
      "  Downloading patsy-0.5.1-py2.py3-none-any.whl (231 kB)\n",
      "\u001b[K     |████████████████████████████████| 231 kB 26.0 MB/s eta 0:00:01\n",
      "\u001b[?25hRequirement already satisfied: pandas>=0.21 in /srv/conda/envs/notebook/lib/python3.6/site-packages (from statsmodels) (1.0.1)\n",
      "Requirement already satisfied: six in /srv/conda/envs/notebook/lib/python3.6/site-packages (from patsy>=0.5->statsmodels) (1.14.0)\n",
      "Requirement already satisfied: python-dateutil>=2.6.1 in /srv/conda/envs/notebook/lib/python3.6/site-packages (from pandas>=0.21->statsmodels) (2.8.1)\n",
      "Requirement already satisfied: pytz>=2017.2 in /srv/conda/envs/notebook/lib/python3.6/site-packages (from pandas>=0.21->statsmodels) (2019.3)\n",
      "Installing collected packages: patsy, statsmodels\n",
      "Successfully installed patsy-0.5.1 statsmodels-0.11.0\n"
     ]
    }
   ],
   "source": [
    "!pip install statsmodels"
   ]
  },
  {
   "cell_type": "code",
   "execution_count": 101,
   "metadata": {},
   "outputs": [
    {
     "data": {
      "text/plain": [
       "const             3.867400e-01\n",
       "Suburb            1.693279e-80\n",
       "Address           4.275767e-06\n",
       "Rooms             9.123271e-14\n",
       "Type              2.348052e-47\n",
       "Method            1.309792e-02\n",
       "SellerG           8.478862e-19\n",
       "Date              5.566918e-01\n",
       "Distance          0.000000e+00\n",
       "Postcode          0.000000e+00\n",
       "Bedroom2          1.150531e-03\n",
       "Bathroom          0.000000e+00\n",
       "Car              4.899444e-280\n",
       "Landsize          0.000000e+00\n",
       "BuildingArea      0.000000e+00\n",
       "YearBuilt         0.000000e+00\n",
       "CouncilArea      1.963229e-181\n",
       "Lattitude         3.293231e-01\n",
       "Longtitude        7.302566e-01\n",
       "Regionname        6.263299e-15\n",
       "Propertycount     2.175605e-07\n",
       "dtype: float64"
      ]
     },
     "execution_count": 101,
     "metadata": {},
     "output_type": "execute_result"
    }
   ],
   "source": [
    "# for finding p values\n",
    "import statsmodels.api as sm\n",
    "X_1 = sm.add_constant(X)\n",
    "#Fitting sm.OLS model\n",
    "model = sm.OLS(y,X_1).fit()\n",
    "model.pvalues"
   ]
  },
  {
   "cell_type": "code",
   "execution_count": 102,
   "metadata": {},
   "outputs": [
    {
     "name": "stdout",
     "output_type": "stream",
     "text": [
      "['Suburb', 'Address', 'Rooms', 'Type', 'Method', 'SellerG', 'Distance', 'Postcode', 'Bedroom2', 'Bathroom', 'Car', 'Landsize', 'BuildingArea', 'YearBuilt', 'CouncilArea', 'Regionname', 'Propertycount']\n"
     ]
    }
   ],
   "source": [
    "#we will include those features whose corelation are less \n",
    "cols = list(X.columns)\n",
    "pmax = 1\n",
    "while (len(cols)>0):\n",
    "    p= []\n",
    "    X_1 = X[cols]\n",
    "    X_1 = sm.add_constant(X_1)\n",
    "    model = sm.OLS(y,X_1).fit()\n",
    "    p = pd.Series(model.pvalues.values[1:],index = cols)      \n",
    "    pmax = max(p)\n",
    "    feature_with_p_max = p.idxmax()\n",
    "    if(pmax>0.05):\n",
    "        cols.remove(feature_with_p_max)\n",
    "    else:\n",
    "        break\n",
    "selected_features_BE = cols\n",
    "print(selected_features_BE)"
   ]
  },
  {
   "cell_type": "code",
   "execution_count": 188,
   "metadata": {},
   "outputs": [],
   "source": [
    "#\n",
    "new_data=df4[['Suburb', 'Address', 'Rooms', 'Type', 'Method', 'SellerG', 'Distance', 'Postcode', 'Bedroom2', 'Bathroom', 'Car', 'Landsize', 'BuildingArea', 'YearBuilt','CouncilArea','Regionname','Propertycount']]"
   ]
  },
  {
   "cell_type": "code",
   "execution_count": 189,
   "metadata": {},
   "outputs": [
    {
     "data": {
      "text/html": [
       "<div>\n",
       "<style scoped>\n",
       "    .dataframe tbody tr th:only-of-type {\n",
       "        vertical-align: middle;\n",
       "    }\n",
       "\n",
       "    .dataframe tbody tr th {\n",
       "        vertical-align: top;\n",
       "    }\n",
       "\n",
       "    .dataframe thead th {\n",
       "        text-align: right;\n",
       "    }\n",
       "</style>\n",
       "<table border=\"1\" class=\"dataframe\">\n",
       "  <thead>\n",
       "    <tr style=\"text-align: right;\">\n",
       "      <th></th>\n",
       "      <th>Suburb</th>\n",
       "      <th>Address</th>\n",
       "      <th>Rooms</th>\n",
       "      <th>Type</th>\n",
       "      <th>Method</th>\n",
       "      <th>SellerG</th>\n",
       "      <th>Distance</th>\n",
       "      <th>Postcode</th>\n",
       "      <th>Bedroom2</th>\n",
       "      <th>Bathroom</th>\n",
       "      <th>Car</th>\n",
       "      <th>Landsize</th>\n",
       "      <th>BuildingArea</th>\n",
       "      <th>YearBuilt</th>\n",
       "      <th>CouncilArea</th>\n",
       "      <th>Regionname</th>\n",
       "      <th>Propertycount</th>\n",
       "    </tr>\n",
       "  </thead>\n",
       "  <tbody>\n",
       "    <tr>\n",
       "      <th>0</th>\n",
       "      <td>0.0</td>\n",
       "      <td>29458.0</td>\n",
       "      <td>2.0</td>\n",
       "      <td>0.0</td>\n",
       "      <td>6.0</td>\n",
       "      <td>155.0</td>\n",
       "      <td>2.0</td>\n",
       "      <td>3067.0</td>\n",
       "      <td>2.0</td>\n",
       "      <td>1.0</td>\n",
       "      <td>1.0</td>\n",
       "      <td>126.0</td>\n",
       "      <td>66.0</td>\n",
       "      <td>1922.0</td>\n",
       "      <td>31.0</td>\n",
       "      <td>2.0</td>\n",
       "      <td>4019.0</td>\n",
       "    </tr>\n",
       "    <tr>\n",
       "      <th>1</th>\n",
       "      <td>0.0</td>\n",
       "      <td>32512.0</td>\n",
       "      <td>2.0</td>\n",
       "      <td>0.0</td>\n",
       "      <td>2.0</td>\n",
       "      <td>33.0</td>\n",
       "      <td>2.0</td>\n",
       "      <td>3067.0</td>\n",
       "      <td>2.0</td>\n",
       "      <td>1.0</td>\n",
       "      <td>1.0</td>\n",
       "      <td>202.0</td>\n",
       "      <td>89.0</td>\n",
       "      <td>1917.0</td>\n",
       "      <td>31.0</td>\n",
       "      <td>2.0</td>\n",
       "      <td>4019.0</td>\n",
       "    </tr>\n",
       "    <tr>\n",
       "      <th>2</th>\n",
       "      <td>0.0</td>\n",
       "      <td>15389.0</td>\n",
       "      <td>2.0</td>\n",
       "      <td>0.0</td>\n",
       "      <td>2.0</td>\n",
       "      <td>33.0</td>\n",
       "      <td>2.0</td>\n",
       "      <td>3067.0</td>\n",
       "      <td>2.0</td>\n",
       "      <td>1.0</td>\n",
       "      <td>0.0</td>\n",
       "      <td>156.0</td>\n",
       "      <td>79.0</td>\n",
       "      <td>1900.0</td>\n",
       "      <td>31.0</td>\n",
       "      <td>2.0</td>\n",
       "      <td>4019.0</td>\n",
       "    </tr>\n",
       "    <tr>\n",
       "      <th>3</th>\n",
       "      <td>0.0</td>\n",
       "      <td>9768.0</td>\n",
       "      <td>3.0</td>\n",
       "      <td>2.0</td>\n",
       "      <td>7.0</td>\n",
       "      <td>296.0</td>\n",
       "      <td>2.0</td>\n",
       "      <td>3067.0</td>\n",
       "      <td>3.0</td>\n",
       "      <td>2.0</td>\n",
       "      <td>1.0</td>\n",
       "      <td>156.0</td>\n",
       "      <td>77.0</td>\n",
       "      <td>1976.0</td>\n",
       "      <td>31.0</td>\n",
       "      <td>2.0</td>\n",
       "      <td>4019.0</td>\n",
       "    </tr>\n",
       "    <tr>\n",
       "      <th>4</th>\n",
       "      <td>0.0</td>\n",
       "      <td>25128.0</td>\n",
       "      <td>3.0</td>\n",
       "      <td>0.0</td>\n",
       "      <td>5.0</td>\n",
       "      <td>33.0</td>\n",
       "      <td>2.0</td>\n",
       "      <td>3067.0</td>\n",
       "      <td>3.0</td>\n",
       "      <td>2.0</td>\n",
       "      <td>0.0</td>\n",
       "      <td>134.0</td>\n",
       "      <td>150.0</td>\n",
       "      <td>1900.0</td>\n",
       "      <td>31.0</td>\n",
       "      <td>2.0</td>\n",
       "      <td>4019.0</td>\n",
       "    </tr>\n",
       "  </tbody>\n",
       "</table>\n",
       "</div>"
      ],
      "text/plain": [
       "   Suburb  Address  Rooms  Type  Method  SellerG  Distance  Postcode  \\\n",
       "0     0.0  29458.0    2.0   0.0     6.0    155.0       2.0    3067.0   \n",
       "1     0.0  32512.0    2.0   0.0     2.0     33.0       2.0    3067.0   \n",
       "2     0.0  15389.0    2.0   0.0     2.0     33.0       2.0    3067.0   \n",
       "3     0.0   9768.0    3.0   2.0     7.0    296.0       2.0    3067.0   \n",
       "4     0.0  25128.0    3.0   0.0     5.0     33.0       2.0    3067.0   \n",
       "\n",
       "   Bedroom2  Bathroom  Car  Landsize  BuildingArea  YearBuilt  CouncilArea  \\\n",
       "0       2.0       1.0  1.0     126.0          66.0     1922.0         31.0   \n",
       "1       2.0       1.0  1.0     202.0          89.0     1917.0         31.0   \n",
       "2       2.0       1.0  0.0     156.0          79.0     1900.0         31.0   \n",
       "3       3.0       2.0  1.0     156.0          77.0     1976.0         31.0   \n",
       "4       3.0       2.0  0.0     134.0         150.0     1900.0         31.0   \n",
       "\n",
       "   Regionname  Propertycount  \n",
       "0         2.0         4019.0  \n",
       "1         2.0         4019.0  \n",
       "2         2.0         4019.0  \n",
       "3         2.0         4019.0  \n",
       "4         2.0         4019.0  "
      ]
     },
     "execution_count": 189,
     "metadata": {},
     "output_type": "execute_result"
    }
   ],
   "source": [
    "new_data.head()"
   ]
  },
  {
   "cell_type": "code",
   "execution_count": 190,
   "metadata": {},
   "outputs": [],
   "source": [
    "new_data=abs(new_data)"
   ]
  },
  {
   "cell_type": "code",
   "execution_count": 191,
   "metadata": {},
   "outputs": [],
   "source": [
    "#To find skewness\n",
    "from scipy.stats import skew \n",
    "import pylab as p"
   ]
  },
  {
   "cell_type": "code",
   "execution_count": 192,
   "metadata": {},
   "outputs": [
    {
     "data": {
      "text/plain": [
       "-0.02217874891497276"
      ]
     },
     "execution_count": 192,
     "metadata": {},
     "output_type": "execute_result"
    },
    {
     "data": {
      "image/png": "[encoded data removed]",
      "text/plain": [
       "<Figure size 432x288 with 1 Axes>"
      ]
     },
     "metadata": {
      "needs_background": "light"
     },
     "output_type": "display_data"
    }
   ],
   "source": [
    "p.plot(new_data['Suburb'])\n",
    "skew(new_data['Suburb'])"
   ]
  },
  {
   "cell_type": "code",
   "execution_count": 193,
   "metadata": {},
   "outputs": [
    {
     "name": "stdout",
     "output_type": "stream",
     "text": [
      "Suburb   -0.02217874891497276\n",
      "Address   0.0002924660348650955\n",
      "Rooms   0.23851459178211773\n",
      "Type   1.084036399803054\n",
      "Method   0.8356174388686235\n",
      "SellerG   0.12698612236135562\n",
      "Distance   1.4876164468869209\n",
      "Postcode   3.9649947541364656\n",
      "Bedroom2   0.2169914012398213\n",
      "Bathroom   1.080709929673476\n",
      "Car   2.1655349226652585\n",
      "Landsize   112.78717348931723\n",
      "BuildingArea   96.9872483764621\n",
      "YearBuilt   49.79796111999517\n",
      "CouncilArea   0.1430162664537221\n",
      "Regionname   -0.5325739391564688\n",
      "Propertycount   0.596716560389206\n"
     ]
    }
   ],
   "source": [
    "for i in new_data.columns:\n",
    "    print(i,\" \",skew(new_data[i]))"
   ]
  },
  {
   "cell_type": "code",
   "execution_count": 194,
   "metadata": {},
   "outputs": [
    {
     "name": "stderr",
     "output_type": "stream",
     "text": [
      "/srv/conda/envs/notebook/lib/python3.6/site-packages/ipykernel_launcher.py:1: RuntimeWarning: divide by zero encountered in log\n",
      "  \"\"\"Entry point for launching an IPython kernel.\n"
     ]
    },
    {
     "data": {
      "text/plain": [
       "-inf"
      ]
     },
     "execution_count": 194,
     "metadata": {},
     "output_type": "execute_result"
    }
   ],
   "source": [
    "np.log(0)"
   ]
  },
  {
   "cell_type": "code",
   "execution_count": 195,
   "metadata": {},
   "outputs": [],
   "source": [
    "#as np.log(0) gives '-inf' we change 0 to 1 or may be 2 as both are near.\n",
    "new_data['BuildingArea']=new_data['BuildingArea'].replace(0,2)\n",
    "new_data['Distance']=new_data['Distance'].replace(0,2)"
   ]
  },
  {
   "cell_type": "code",
   "execution_count": 196,
   "metadata": {},
   "outputs": [
    {
     "data": {
      "text/plain": [
       "0.6931471805599453"
      ]
     },
     "execution_count": 196,
     "metadata": {},
     "output_type": "execute_result"
    }
   ],
   "source": [
    "np.log(2)"
   ]
  },
  {
   "cell_type": "code",
   "execution_count": 197,
   "metadata": {},
   "outputs": [
    {
     "data": {
      "text/plain": [
       "1970.0    1735\n",
       "1960.0    1494\n",
       "1950.0    1272\n",
       "1980.0     997\n",
       "2000.0     684\n",
       "          ... \n",
       "2389.0       1\n",
       "1862.0       1\n",
       "2098.0       1\n",
       "1864.0       1\n",
       "2354.0       1\n",
       "Name: YearBuilt, Length: 235, dtype: int64"
      ]
     },
     "execution_count": 197,
     "metadata": {},
     "output_type": "execute_result"
    }
   ],
   "source": [
    "new_data['YearBuilt'].value_counts()"
   ]
  },
  {
   "cell_type": "code",
   "execution_count": 198,
   "metadata": {},
   "outputs": [],
   "source": [
    "#If the skewness is between -0.5 and 0.5, the data are fairly symmetrical.\n",
    "#If the skewness is between -1 and -0.5(negatively skewed) or between 0.5 and 1(positively skewed), the data are moderately skewed.\n",
    "# if the skewness is less than -1(negatively skewed or left skewed) or greater than 1(positively skewed or right skewed), the data are highly skewed.\n",
    "\n",
    "new_data['Distance']=np.log(new_data['Distance'])\n",
    "new_data['Postcode']=np.log(new_data['Postcode'])\n",
    "new_data['YearBuilt']=np.log(new_data['YearBuilt'])\n",
    "new_data['Landsize']=np.log(new_data['Landsize'])\n",
    "new_data['BuildingArea']=np.log(new_data['BuildingArea'])\n"
   ]
  },
  {
   "cell_type": "code",
   "execution_count": 199,
   "metadata": {},
   "outputs": [
    {
     "name": "stdout",
     "output_type": "stream",
     "text": [
      "Suburb   -0.02217874891497276\n",
      "Address   0.0002924660348650955\n",
      "Rooms   0.23851459178211773\n",
      "Type   1.084036399803054\n",
      "Method   0.8356174388686235\n",
      "SellerG   0.12698612236135562\n",
      "Distance   -0.4615466449476674\n",
      "Postcode   3.551899163290268\n",
      "Bedroom2   0.2169914012398213\n",
      "Bathroom   1.080709929673476\n",
      "Car   2.1655349226652585\n",
      "Landsize   -0.4054021183240992\n",
      "BuildingArea   -2.0137007955973214\n",
      "YearBuilt   12.466074725544805\n",
      "CouncilArea   0.1430162664537221\n",
      "Regionname   -0.5325739391564688\n",
      "Propertycount   0.596716560389206\n"
     ]
    }
   ],
   "source": [
    "#To see the change in skewness\n",
    "for i in new_data.columns:\n",
    "    print(i,\" \",skew(new_data[i]))"
   ]
  },
  {
   "cell_type": "code",
   "execution_count": null,
   "metadata": {},
   "outputs": [],
   "source": []
  },
  {
   "cell_type": "code",
   "execution_count": 201,
   "metadata": {},
   "outputs": [],
   "source": [
    "from sklearn.preprocessing import StandardScaler\n",
    "#scaling of feature (It depends upon the algorithm we use)\n",
    "new_data=pd.DataFrame(StandardScaler().fit_transform(new_data))"
   ]
  },
  {
   "cell_type": "code",
   "execution_count": 202,
   "metadata": {},
   "outputs": [
    {
     "data": {
      "text/html": [
       "<div>\n",
       "<style scoped>\n",
       "    .dataframe tbody tr th:only-of-type {\n",
       "        vertical-align: middle;\n",
       "    }\n",
       "\n",
       "    .dataframe tbody tr th {\n",
       "        vertical-align: top;\n",
       "    }\n",
       "\n",
       "    .dataframe thead th {\n",
       "        text-align: right;\n",
       "    }\n",
       "</style>\n",
       "<table border=\"1\" class=\"dataframe\">\n",
       "  <thead>\n",
       "    <tr style=\"text-align: right;\">\n",
       "      <th></th>\n",
       "      <th>Suburb</th>\n",
       "      <th>Address</th>\n",
       "      <th>Rooms</th>\n",
       "      <th>Type</th>\n",
       "      <th>Method</th>\n",
       "      <th>SellerG</th>\n",
       "      <th>Distance</th>\n",
       "      <th>Postcode</th>\n",
       "      <th>Bedroom2</th>\n",
       "      <th>Bathroom</th>\n",
       "      <th>Car</th>\n",
       "      <th>Landsize</th>\n",
       "      <th>BuildingArea</th>\n",
       "      <th>YearBuilt</th>\n",
       "      <th>CouncilArea</th>\n",
       "      <th>Regionname</th>\n",
       "      <th>Propertycount</th>\n",
       "    </tr>\n",
       "  </thead>\n",
       "  <tbody>\n",
       "    <tr>\n",
       "      <th>0</th>\n",
       "      <td>-1.681179</td>\n",
       "      <td>1.267233</td>\n",
       "      <td>-1.079778</td>\n",
       "      <td>-0.636690</td>\n",
       "      <td>1.646615</td>\n",
       "      <td>-0.265684</td>\n",
       "      <td>-2.381249</td>\n",
       "      <td>-0.470712</td>\n",
       "      <td>-1.068037</td>\n",
       "      <td>-0.883092</td>\n",
       "      <td>-0.757683</td>\n",
       "      <td>-2.032734</td>\n",
       "      <td>-0.992321</td>\n",
       "      <td>-1.227369</td>\n",
       "      <td>1.716244</td>\n",
       "      <td>-0.828337</td>\n",
       "      <td>-0.826112</td>\n",
       "    </tr>\n",
       "    <tr>\n",
       "      <th>1</th>\n",
       "      <td>-1.681179</td>\n",
       "      <td>1.578538</td>\n",
       "      <td>-1.079778</td>\n",
       "      <td>-0.636690</td>\n",
       "      <td>-0.361385</td>\n",
       "      <td>-1.371934</td>\n",
       "      <td>-2.381249</td>\n",
       "      <td>-0.470712</td>\n",
       "      <td>-1.068037</td>\n",
       "      <td>-0.883092</td>\n",
       "      <td>-0.757683</td>\n",
       "      <td>-1.362973</td>\n",
       "      <td>-0.558681</td>\n",
       "      <td>-1.367587</td>\n",
       "      <td>1.716244</td>\n",
       "      <td>-0.828337</td>\n",
       "      <td>-0.826112</td>\n",
       "    </tr>\n",
       "    <tr>\n",
       "      <th>2</th>\n",
       "      <td>-1.681179</td>\n",
       "      <td>-0.166867</td>\n",
       "      <td>-1.079778</td>\n",
       "      <td>-0.636690</td>\n",
       "      <td>-0.361385</td>\n",
       "      <td>-1.371934</td>\n",
       "      <td>-2.381249</td>\n",
       "      <td>-0.470712</td>\n",
       "      <td>-1.068037</td>\n",
       "      <td>-0.883092</td>\n",
       "      <td>-1.852152</td>\n",
       "      <td>-1.729666</td>\n",
       "      <td>-0.731551</td>\n",
       "      <td>-1.847078</td>\n",
       "      <td>1.716244</td>\n",
       "      <td>-0.828337</td>\n",
       "      <td>-0.826112</td>\n",
       "    </tr>\n",
       "    <tr>\n",
       "      <th>3</th>\n",
       "      <td>-1.681179</td>\n",
       "      <td>-0.739834</td>\n",
       "      <td>-0.033146</td>\n",
       "      <td>1.810251</td>\n",
       "      <td>2.148615</td>\n",
       "      <td>1.012851</td>\n",
       "      <td>-2.381249</td>\n",
       "      <td>-0.470712</td>\n",
       "      <td>-0.018200</td>\n",
       "      <td>0.581157</td>\n",
       "      <td>-0.757683</td>\n",
       "      <td>-1.729666</td>\n",
       "      <td>-0.768743</td>\n",
       "      <td>0.264158</td>\n",
       "      <td>1.716244</td>\n",
       "      <td>-0.828337</td>\n",
       "      <td>-0.826112</td>\n",
       "    </tr>\n",
       "    <tr>\n",
       "      <th>4</th>\n",
       "      <td>-1.681179</td>\n",
       "      <td>0.825862</td>\n",
       "      <td>-0.033146</td>\n",
       "      <td>-0.636690</td>\n",
       "      <td>1.144615</td>\n",
       "      <td>-1.371934</td>\n",
       "      <td>-2.381249</td>\n",
       "      <td>-0.470712</td>\n",
       "      <td>-0.018200</td>\n",
       "      <td>0.581157</td>\n",
       "      <td>-1.852152</td>\n",
       "      <td>-1.945382</td>\n",
       "      <td>0.198420</td>\n",
       "      <td>-1.847078</td>\n",
       "      <td>1.716244</td>\n",
       "      <td>-0.828337</td>\n",
       "      <td>-0.826112</td>\n",
       "    </tr>\n",
       "    <tr>\n",
       "      <th>5</th>\n",
       "      <td>-1.681179</td>\n",
       "      <td>0.629334</td>\n",
       "      <td>-0.033146</td>\n",
       "      <td>-0.636690</td>\n",
       "      <td>-1.365385</td>\n",
       "      <td>-1.371934</td>\n",
       "      <td>-2.381249</td>\n",
       "      <td>-0.470712</td>\n",
       "      <td>-0.018200</td>\n",
       "      <td>0.581157</td>\n",
       "      <td>-0.757683</td>\n",
       "      <td>-2.448491</td>\n",
       "      <td>-0.433840</td>\n",
       "      <td>-0.338521</td>\n",
       "      <td>1.716244</td>\n",
       "      <td>-0.828337</td>\n",
       "      <td>-0.826112</td>\n",
       "    </tr>\n",
       "    <tr>\n",
       "      <th>6</th>\n",
       "      <td>-1.681179</td>\n",
       "      <td>1.026467</td>\n",
       "      <td>1.013485</td>\n",
       "      <td>-0.636690</td>\n",
       "      <td>2.148615</td>\n",
       "      <td>0.387185</td>\n",
       "      <td>-2.381249</td>\n",
       "      <td>-0.470712</td>\n",
       "      <td>-0.018200</td>\n",
       "      <td>-0.883092</td>\n",
       "      <td>0.336787</td>\n",
       "      <td>-2.101969</td>\n",
       "      <td>0.118927</td>\n",
       "      <td>1.289515</td>\n",
       "      <td>1.716244</td>\n",
       "      <td>-0.828337</td>\n",
       "      <td>-0.826112</td>\n",
       "    </tr>\n",
       "    <tr>\n",
       "      <th>7</th>\n",
       "      <td>-1.681179</td>\n",
       "      <td>-0.886313</td>\n",
       "      <td>1.013485</td>\n",
       "      <td>-0.636690</td>\n",
       "      <td>0.642615</td>\n",
       "      <td>0.387185</td>\n",
       "      <td>-2.381249</td>\n",
       "      <td>-0.470712</td>\n",
       "      <td>-0.018200</td>\n",
       "      <td>0.581157</td>\n",
       "      <td>0.336787</td>\n",
       "      <td>-0.393498</td>\n",
       "      <td>0.753908</td>\n",
       "      <td>1.075267</td>\n",
       "      <td>1.716244</td>\n",
       "      <td>-0.828337</td>\n",
       "      <td>-0.826112</td>\n",
       "    </tr>\n",
       "    <tr>\n",
       "      <th>8</th>\n",
       "      <td>-1.681179</td>\n",
       "      <td>0.995887</td>\n",
       "      <td>-1.079778</td>\n",
       "      <td>-0.636690</td>\n",
       "      <td>-0.361385</td>\n",
       "      <td>-1.371934</td>\n",
       "      <td>-2.381249</td>\n",
       "      <td>-0.470712</td>\n",
       "      <td>1.031638</td>\n",
       "      <td>-0.883092</td>\n",
       "      <td>0.336787</td>\n",
       "      <td>-1.370015</td>\n",
       "      <td>-1.059793</td>\n",
       "      <td>-1.847078</td>\n",
       "      <td>1.716244</td>\n",
       "      <td>-0.828337</td>\n",
       "      <td>-0.826112</td>\n",
       "    </tr>\n",
       "    <tr>\n",
       "      <th>9</th>\n",
       "      <td>-1.681179</td>\n",
       "      <td>1.725933</td>\n",
       "      <td>-1.079778</td>\n",
       "      <td>-0.636690</td>\n",
       "      <td>-0.361385</td>\n",
       "      <td>-1.000161</td>\n",
       "      <td>-2.381249</td>\n",
       "      <td>-0.470712</td>\n",
       "      <td>-0.018200</td>\n",
       "      <td>0.581157</td>\n",
       "      <td>-0.757683</td>\n",
       "      <td>-1.362973</td>\n",
       "      <td>-0.575070</td>\n",
       "      <td>-1.847078</td>\n",
       "      <td>1.716244</td>\n",
       "      <td>-0.828337</td>\n",
       "      <td>-0.826112</td>\n",
       "    </tr>\n",
       "  </tbody>\n",
       "</table>\n",
       "</div>"
      ],
      "text/plain": [
       "     Suburb   Address     Rooms      Type    Method   SellerG  Distance  \\\n",
       "0 -1.681179  1.267233 -1.079778 -0.636690  1.646615 -0.265684 -2.381249   \n",
       "1 -1.681179  1.578538 -1.079778 -0.636690 -0.361385 -1.371934 -2.381249   \n",
       "2 -1.681179 -0.166867 -1.079778 -0.636690 -0.361385 -1.371934 -2.381249   \n",
       "3 -1.681179 -0.739834 -0.033146  1.810251  2.148615  1.012851 -2.381249   \n",
       "4 -1.681179  0.825862 -0.033146 -0.636690  1.144615 -1.371934 -2.381249   \n",
       "5 -1.681179  0.629334 -0.033146 -0.636690 -1.365385 -1.371934 -2.381249   \n",
       "6 -1.681179  1.026467  1.013485 -0.636690  2.148615  0.387185 -2.381249   \n",
       "7 -1.681179 -0.886313  1.013485 -0.636690  0.642615  0.387185 -2.381249   \n",
       "8 -1.681179  0.995887 -1.079778 -0.636690 -0.361385 -1.371934 -2.381249   \n",
       "9 -1.681179  1.725933 -1.079778 -0.636690 -0.361385 -1.000161 -2.381249   \n",
       "\n",
       "   Postcode  Bedroom2  Bathroom       Car  Landsize  BuildingArea  YearBuilt  \\\n",
       "0 -0.470712 -1.068037 -0.883092 -0.757683 -2.032734     -0.992321  -1.227369   \n",
       "1 -0.470712 -1.068037 -0.883092 -0.757683 -1.362973     -0.558681  -1.367587   \n",
       "2 -0.470712 -1.068037 -0.883092 -1.852152 -1.729666     -0.731551  -1.847078   \n",
       "3 -0.470712 -0.018200  0.581157 -0.757683 -1.729666     -0.768743   0.264158   \n",
       "4 -0.470712 -0.018200  0.581157 -1.852152 -1.945382      0.198420  -1.847078   \n",
       "5 -0.470712 -0.018200  0.581157 -0.757683 -2.448491     -0.433840  -0.338521   \n",
       "6 -0.470712 -0.018200 -0.883092  0.336787 -2.101969      0.118927   1.289515   \n",
       "7 -0.470712 -0.018200  0.581157  0.336787 -0.393498      0.753908   1.075267   \n",
       "8 -0.470712  1.031638 -0.883092  0.336787 -1.370015     -1.059793  -1.847078   \n",
       "9 -0.470712 -0.018200  0.581157 -0.757683 -1.362973     -0.575070  -1.847078   \n",
       "\n",
       "   CouncilArea  Regionname  Propertycount  \n",
       "0     1.716244   -0.828337      -0.826112  \n",
       "1     1.716244   -0.828337      -0.826112  \n",
       "2     1.716244   -0.828337      -0.826112  \n",
       "3     1.716244   -0.828337      -0.826112  \n",
       "4     1.716244   -0.828337      -0.826112  \n",
       "5     1.716244   -0.828337      -0.826112  \n",
       "6     1.716244   -0.828337      -0.826112  \n",
       "7     1.716244   -0.828337      -0.826112  \n",
       "8     1.716244   -0.828337      -0.826112  \n",
       "9     1.716244   -0.828337      -0.826112  "
      ]
     },
     "execution_count": 202,
     "metadata": {},
     "output_type": "execute_result"
    }
   ],
   "source": [
    "new_data.columns=selected_features_BE\n",
    "new_data.head(10)\n"
   ]
  },
  {
   "cell_type": "code",
   "execution_count": null,
   "metadata": {},
   "outputs": [],
   "source": [
    "#Now most of the preprocessing is completed and new_data is ready to be used into algorithms."
   ]
  }
 ],
 "metadata": {
  "kernelspec": {
   "display_name": "Python 3",
   "language": "python",
   "name": "python3"
  },
  "language_info": {
   "codemirror_mode": {
    "name": "ipython",
    "version": 3
   },
   "file_extension": ".py",
   "mimetype": "text/x-python",
   "name": "python",
   "nbconvert_exporter": "python",
   "pygments_lexer": "ipython3",
   "version": "3.7.4"
  }
 },
 "nbformat": 4,
 "nbformat_minor": 2
}
